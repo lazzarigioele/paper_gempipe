{
 "cells": [
  {
   "cell_type": "code",
   "execution_count": 1,
   "id": "20885442-cc39-44cd-b4d1-a11386c8b363",
   "metadata": {},
   "outputs": [],
   "source": [
    "import cobra\n",
    "import gempipe\n",
    "\n",
    "from memote.support.consistency import find_unconserved_metabolites"
   ]
  },
  {
   "cell_type": "markdown",
   "id": "df097081-02d1-4a7d-81d4-67bd955641e0",
   "metadata": {},
   "source": [
    "# define useful functions"
   ]
  },
  {
   "cell_type": "code",
   "execution_count": 2,
   "id": "9a91965d-9ca6-4825-affa-9714fec5224a",
   "metadata": {},
   "outputs": [],
   "source": [
    "from helper_functions import *"
   ]
  },
  {
   "cell_type": "markdown",
   "id": "4be6a80a-d3ca-4454-8c58-edd19629f23f",
   "metadata": {},
   "source": [
    "# 01_klebsiella"
   ]
  },
  {
   "cell_type": "code",
   "execution_count": 3,
   "id": "732ece0b-1510-4fa9-8cb8-ae2a8bcffff8",
   "metadata": {},
   "outputs": [
    {
     "name": "stdout",
     "output_type": "stream",
     "text": [
      "gempipe v1.37.6 - sanity_report\n",
      "model ID: iYL1228\n",
      "G: 1229 R: 2262 M: 1658 uM: 1055 groups: 0\n",
      "Compartments: ['c', 'e', 'p']\n",
      "Biomass assemblies: 1 ['BIOMASS_']\n",
      "Objectives: 1 ['BIOMASS_']\n",
      "Optimization: 1.0426374979773743 optimal (cplex)\n",
      "Unconstrained LB-UB: (-1000.0, 1000.0)\n",
      "Bad EX_change notation: 0\n",
      "Sink/demand: 2\n",
      "Constrained metabolic: 15\n",
      "With 'artificial' atoms: 0\n",
      "Missing formulas - charges: 1658 - 0\n",
      "Mass - charge unbalances: 0 - 0\n"
     ]
    }
   ],
   "source": [
    "# load reference model\n",
    "iYL1228 = cobra.io.read_sbml_model('01_klebsiella/reference/iYL1228.xml')\n",
    "gempipe.sanity_report(iYL1228)"
   ]
  },
  {
   "cell_type": "markdown",
   "id": "26437992-a44b-42a0-ace0-3ed0fc9b2ce3",
   "metadata": {},
   "source": [
    "## get proteomes"
   ]
  },
  {
   "cell_type": "code",
   "execution_count": 4,
   "id": "542d6af3-2c05-4135-aec8-d1c34dbb2831",
   "metadata": {},
   "outputs": [
    {
     "name": "stdout",
     "output_type": "stream",
     "text": [
      "Recovered 1228 / 1229.\n",
      "Missing 1 : {'KPN_SPONT'}\n",
      "Recovered 1228 / 1229.\n",
      "Missing 1 : {'KPN_SPONT'}\n"
     ]
    }
   ],
   "source": [
    "# get FASTA proteomes of modeled genes\n",
    "# nucleotidic\n",
    "_ = fasta_to_modeled(iYL1228, ['01_klebsiella/reference/CP000647.1.fna'], '01_klebsiella/reference/iYL1228.fna')\n",
    "# amino aicdic\n",
    "_ = fasta_to_modeled(iYL1228, ['01_klebsiella/reference/CP000647.1.faa'], '01_klebsiella/reference/iYL1228.faa')"
   ]
  },
  {
   "cell_type": "markdown",
   "id": "96445875-ebc7-450f-aeef-1c585a0003db",
   "metadata": {},
   "source": [
    "## remove strain-specific biom precursors"
   ]
  },
  {
   "cell_type": "code",
   "execution_count": 5,
   "id": "3c1776cc-9a75-447c-bb01-3a722424af35",
   "metadata": {},
   "outputs": [
    {
     "name": "stdout",
     "output_type": "stream",
     "text": [
      "gempipe v1.37.6 - sanity_report\n",
      "model ID: iYL1228\n",
      "G: 1229 R: 2262 M: 1658 uM: 1055 groups: 0\n",
      "Compartments: ['c', 'e', 'p']\n",
      "Biomass assemblies: 1 ['BIOMASS_']\n",
      "Objectives: 1 ['BIOMASS_']\n",
      "Optimization: 1.084689665727891 optimal (cplex)\n",
      "Unconstrained LB-UB: (-1000.0, 1000.0)\n",
      "Bad EX_change notation: 0\n",
      "Sink/demand: 2\n",
      "Constrained metabolic: 15\n",
      "With 'artificial' atoms: 0\n",
      "Missing formulas - charges: 1658 - 0\n",
      "Mass - charge unbalances: 0 - 0\n"
     ]
    }
   ],
   "source": [
    "# delete strain specific components from biomass: udpgalur_c , udpgal_c, dtdprmn_c\n",
    "\n",
    "r_string = iYL1228.reactions.BIOMASS_.reaction\n",
    "r_string = r_string.replace(' + 0.076 udpgal_c', '')\n",
    "r_string = r_string.replace(' + 0.001 udpgalur_c', '')\n",
    "r_string = r_string.replace(' + 0.142 dtdprmn_c', '')\n",
    "iYL1228.reactions.BIOMASS_.build_reaction_from_string(r_string)\n",
    "\n",
    "gempipe.sanity_report(iYL1228)"
   ]
  },
  {
   "cell_type": "markdown",
   "id": "dee2f0f0-2355-4470-816c-3b92aa31597c",
   "metadata": {},
   "source": [
    "## relax diffusions"
   ]
  },
  {
   "cell_type": "code",
   "execution_count": 6,
   "id": "66b305a2-8d1f-4eca-a924-9f0fcd8ec43c",
   "metadata": {},
   "outputs": [
    {
     "name": "stdout",
     "output_type": "stream",
     "text": [
      "ACMANAtex acmana_e <-- acmana_p N-acetyl-D-mannosamine transport via diffusion (extracellular to periplasm) (-1000.0, 0.0)\n",
      "ABUTtex 4abut_e <-- 4abut_p 4-aminobutyrate transport via diffusion (extracellular to periplasm) (-1000.0, 0.0)\n",
      "AKGtex akg_e <-- akg_p Alpha-ketoglutarate transport via diffusion (extracellular to periplasm) (-1000.0, 0.0)\n",
      "CYStpp cys__L_c --> cys__L_p L-cysteine export via facilitated transport (0.0, 1000.0)\n",
      "DCAtex dca_e <-- dca_p Decanoate transport via diffusion (extracellular to periplasm) (-1000.0, 0.0)\n",
      "FUMtex fum_e <-- fum_p Fumarate transport via diffusion (extracellular to periplasm) (-1000.0, 0.0)\n",
      "GLCtex_copy2 glc__D_e --> glc__D_p Glucose transport via diffusion (extracellular to periplasm) (0.0, 1000.0)\n",
      "HXAtex hxa_e <-- hxa_p Hexanoate transport via diffusion (extracellular to periplasm) (-1000.0, 0.0)\n",
      "FORtex for_e <-- for_p Formate transport via diffusion (extracellular to periplasm) (-1000.0, 0.0)\n",
      "FORtppi for_c --> for_p Formate transport via diffusion (cytoplasm to periplasm) (0.0, 1000.0)\n",
      "MALTTRtexi malttr_e --> malttr_p Maltotriose transport via diffusion (extracellular to periplasm) irreversible (0.0, 1000.0)\n",
      "MALTtexi malt_e --> malt_p MaltoseMaltotriose transport via diffusion (extracellular to periplasm) irreversible (0.0, 1000.0)\n",
      "MALDtex mal__D_e <-- mal__D_p D-Malate transport via diffusion (extracellular to periplasm) (-1000.0, 0.0)\n",
      "NO2tex no2_e <-- no2_p Nitrite transport via diffusion (extracellular to periplasm) (-1000.0, 0.0)\n",
      "NO3tex no3_e <-- no3_p Nitrate transport via diffusion (extracellular to periplasm) (-1000.0, 0.0)\n",
      "PEAMNtex peamn_e <-- peamn_p Phenethylamine transport via diffusion (extracellular to periplasm) (-1000.0, 0.0)\n",
      "SUCCtex succ_e <-- succ_p Succinate transport via diffusion (extracellular to periplasm) (-1000.0, 0.0)\n",
      "THRtex thr__L_e <-- thr__L_p L-threonine transport via diffusion (extracellular to periplasm) (-1000.0, 0.0)\n",
      "TARTRtex tartr__L_e <-- tartr__L_p Tartrate transport via diffusion (extracellular to periplasm) (-1000.0, 0.0)\n"
     ]
    }
   ],
   "source": [
    "# relax diffusions / facilitate diffusion / flipping involved in Biolog assays\n",
    "\n",
    "biolog_mappings = gempipe.get_biolog_mappings()\n",
    "biolog_pure_mids = set(biolog_mappings[biolog_mappings['BiGG_exchange'].notna()]['BiGG_exchange'].to_list())\n",
    "biolog_pure_mids = set([i.replace('EX_', '').rsplit('_', 1)[0] for i in biolog_pure_mids])\n",
    "\n",
    "for r in iYL1228.reactions:\n",
    "    \n",
    "    # if it's involved in Biolog substrates:\n",
    "    if any([i in biolog_pure_mids for i in [m.id.rsplit('_', 1)[0] for m in r.metabolites]]):\n",
    "    \n",
    "        # diffusions / facilitate diffusion / flipping:\n",
    "        if len(r.metabolites)==2 and len(set([r.id.rsplit('_', 1)[-1] for r in r.metabolites]))==2:\n",
    "            if r.bounds != (-1000, 1000):\n",
    "                \n",
    "                print(r.id, r.reaction, r.name, r.bounds)\n",
    "                r.bounds = (-1000, 1000)"
   ]
  },
  {
   "cell_type": "markdown",
   "id": "489be681-160e-4979-b190-8d824503df27",
   "metadata": {},
   "source": [
    "## save medium recipe"
   ]
  },
  {
   "cell_type": "code",
   "execution_count": 7,
   "id": "82a0acac-9092-4716-9010-c5fc343eed72",
   "metadata": {},
   "outputs": [
    {
     "data": {
      "text/plain": [
       "1.0630380418232899"
      ]
     },
     "execution_count": 7,
     "metadata": {},
     "output_type": "execute_result"
    }
   ],
   "source": [
    "# set the main growth medium\n",
    "apply_medium(iYL1228)\n",
    "iYL1228.slim_optimize()"
   ]
  },
  {
   "cell_type": "code",
   "execution_count": 8,
   "id": "8b8d5c4a-a068-40fb-8465-c91e873528a3",
   "metadata": {},
   "outputs": [],
   "source": [
    "# save the recipe for gap-filling\n",
    "# for gempipe\n",
    "save_recipe(iYL1228, flavour='gempipe', medium_id='medium_gempipe', outpath='01_klebsiella/reference/')\n",
    "# for carveme\n",
    "save_recipe(iYL1228, flavour='carveme', medium_id='medium_carveme', outpath='01_klebsiella/reference/')\n",
    "# for bactabolize\n",
    "save_recipe(iYL1228, flavour='bactabolize', medium_id='medium_bactabolize', outpath='01_klebsiella/reference/')"
   ]
  },
  {
   "cell_type": "markdown",
   "id": "c322a579-9cbb-4003-b366-1920abea2651",
   "metadata": {},
   "source": [
    "## check ATPM"
   ]
  },
  {
   "cell_type": "code",
   "execution_count": 9,
   "id": "e6ccb4a3-7d07-4d69-adcb-c3f99120061a",
   "metadata": {},
   "outputs": [
    {
     "data": {
      "text/html": [
       "\n",
       "        <table>\n",
       "            <tr>\n",
       "                <td><strong>Reaction identifier</strong></td><td>ATPM</td>\n",
       "            </tr><tr>\n",
       "                <td><strong>Name</strong></td><td>ATP maintenance requirement</td>\n",
       "            </tr><tr>\n",
       "                <td><strong>Memory address</strong></td>\n",
       "                <td>0x7f88d1893670</td>\n",
       "            </tr><tr>\n",
       "                <td><strong>Stoichiometry</strong></td>\n",
       "                <td>\n",
       "                    <p style='text-align:right'>atp_c + h2o_c --> adp_c + h_c + pi_c</p>\n",
       "                    <p style='text-align:right'>ATP C10H12N5O13P3 + H2O H2O --> ADP C10H12N5O10P2 + H+ + Phosphate</p>\n",
       "                </td>\n",
       "            </tr><tr>\n",
       "                <td><strong>GPR</strong></td><td></td>\n",
       "            </tr><tr>\n",
       "                <td><strong>Lower bound</strong></td><td>6.8</td>\n",
       "            </tr><tr>\n",
       "                <td><strong>Upper bound</strong></td><td>6.8</td>\n",
       "            </tr>\n",
       "        </table>\n",
       "        "
      ],
      "text/plain": [
       "<Reaction ATPM at 0x7f88d1893670>"
      ]
     },
     "execution_count": 9,
     "metadata": {},
     "output_type": "execute_result"
    }
   ],
   "source": [
    "# check the maintenance:\n",
    "iYL1228.reactions.get_by_id('ATPM')"
   ]
  },
  {
   "cell_type": "markdown",
   "id": "a2c2828a-0314-4d60-9179-1f4249a6c35e",
   "metadata": {},
   "source": [
    "## save edited version"
   ]
  },
  {
   "cell_type": "code",
   "execution_count": 10,
   "id": "4bcf964f-fad8-4b34-872b-1021126e1199",
   "metadata": {},
   "outputs": [],
   "source": [
    "# save reference:\n",
    "cobra.io.write_sbml_model(iYL1228, '01_klebsiella/reference/iYL1228_edited.xml')"
   ]
  },
  {
   "cell_type": "markdown",
   "id": "b0d7e575-6205-4e29-a018-3284a0ac363a",
   "metadata": {},
   "source": [
    "# 02_ralstonia"
   ]
  },
  {
   "cell_type": "code",
   "execution_count": 11,
   "id": "0b6df5c7-96cd-4b9c-a350-64e322c3ffac",
   "metadata": {},
   "outputs": [
    {
     "name": "stdout",
     "output_type": "stream",
     "text": [
      "gempipe v1.37.6 - sanity_report\n",
      "model ID: iRP1476\n",
      "G: 2600 R: 2644 M: 2121 uM: 1420 groups: 253\n",
      "Compartments: ['c', 'e', 'p']\n",
      "Biomass assemblies: 1 ['BIOMASS']\n",
      "Objectives: 1 ['BIOMASS']\n",
      "Optimization: 96.36243618282448 optimal (cplex)\n",
      "Unconstrained LB-UB: (-1000.0, 1000.0)\n",
      "Bad EX_change notation: 2\n",
      "Sink/demand: 14\n",
      "Constrained metabolic: 0\n",
      "With 'artificial' atoms: 0\n",
      "Missing formulas - charges: 2121 - 2121\n",
      "Mass - charge unbalances: 0 - 0\n"
     ]
    }
   ],
   "source": [
    "%%capture --no-stdout\n",
    "\n",
    "# load reference model\n",
    "# cobrapy-compatible version obtained from carveme's suppl.mat.\n",
    "iRP1476 = cobra.io.read_sbml_model('02_ralstonia/reference/iRP1476.xml')\n",
    "gempipe.sanity_report(iRP1476)"
   ]
  },
  {
   "cell_type": "markdown",
   "id": "d1a94f75-3f4a-494b-85dd-5587d7668e3d",
   "metadata": {},
   "source": [
    "## restore stoichiometric consistency\n"
   ]
  },
  {
   "cell_type": "code",
   "execution_count": 12,
   "id": "5720dbc6-e108-484e-9417-c9c3c89413ef",
   "metadata": {},
   "outputs": [
    {
     "name": "stdout",
     "output_type": "stream",
     "text": [
      "['cro4_c', 'doxrbcn_e', 'zn2_e', 'hg2_p', 'fusar_e', 'acfv_e', 'naldx_p', 'cro4_e', 'cafe_e', 'mincyc_p', 'fusa_p', 'fusar_p', 'mincyc_e', 'resoc_e', 'ttrcyc_p', 'rfamp_p', 'cm_p', 'ttrcyc_e', 'ampi_e', 'rfamp_e', 'novbcn_p', 'esclt_e', 'tom_p', 'cm_e', 'cd2_p', 'cafe_p', 'ag_p', 'berb_e', 'novbcn_e', 'esclt_p', 'cd2_e', 'cd2_c', 'tom_e', 'ampi_p', 'cana__L_c', 'cana__L_e', 'ni2_c', 'ni2_e', 'hg2_c', 'fusa_e', 'ni2_p', 'zn2_p', 'cro4_p', 'hg2_e', 'acfv_p', 'cana__L_p', 'doxrbcn_p', 'resoc_p', 'zn2_c', 'berb_p', 'ag_c', 'ag_e', 'naldx_e']\n"
     ]
    }
   ],
   "source": [
    "# launch the memote function: \n",
    "\n",
    "un_mids = [m.id for m in find_unconserved_metabolites(iRP1476)]\n",
    "print(un_mids)"
   ]
  },
  {
   "cell_type": "code",
   "execution_count": 13,
   "id": "214b9398-fa78-429f-a524-99318d7fc0e4",
   "metadata": {},
   "outputs": [
    {
     "name": "stdout",
     "output_type": "stream",
     "text": [
      "h_p + naldx_p --> h_c\n",
      "cd2_p + h_p --> h_c\n",
      "h_p + ni2_c --> h_c\n",
      "cd2_c + h_p --> h_c\n",
      "ag_c + h_p --> h_c\n",
      "cm_p + h_p --> h_c\n",
      "esclt_p + h_p --> h_c\n",
      "cafe_p + h_p --> h_c\n",
      "h_p + rfamp_p --> h_c\n",
      "h_p + mincyc_p --> h_c\n",
      "h_p + resoc_p --> h_c\n",
      "h_p + zn2_p --> h_c\n",
      "cro4_c + h_p --> h_c\n",
      "doxrbcn_p + h_p --> h_c\n",
      "fusa_p + h_p --> h_c\n",
      "acfv_p + h_p --> h_c\n",
      "ampi_p + h_p --> h_c\n",
      "h_p + novbcn_p --> h_c\n",
      "h_p + ttrcyc_p --> h_c\n",
      "h_p + zn2_c --> h_c\n",
      "berb_p + h_p --> h_c\n",
      "h_p + tom_p --> h_c\n",
      "fusar_p + h_p --> h_c\n",
      "cana__L_c + h_p --> h_c\n",
      "h_p + hg2_c --> h_c\n",
      "atp_c + h2o_c + hg2_c --> adp_c + h_c + pi_c\n",
      "atp_c + h2o_c + zn2_c --> adp_c + h_c + pi_c\n",
      "atp_c + cd2_c + h2o_c --> adp_c + h_c + pi_c\n",
      "atp_c + h2o_c + ni2_c --> adp_c + h_c + pi_c\n",
      "cd2_c + h_p + k_p --> h_c + k_c\n",
      "h_p + k_p + zn2_c --> h_c + k_c\n"
     ]
    }
   ],
   "source": [
    "print(iRP1476.reactions.Naldxteff.reaction)\n",
    "print(iRP1476.reactions.CD2teff_e.reaction)\n",
    "print(iRP1476.reactions.NI2t3pp.reaction)\n",
    "print(iRP1476.reactions.CD2t3pp.reaction)\n",
    "print(iRP1476.reactions.AGt3pp.reaction)\n",
    "print(iRP1476.reactions.CMtpp.reaction)\n",
    "print(iRP1476.reactions.Escltteff.reaction)\n",
    "print(iRP1476.reactions.cafeteff.reaction)\n",
    "print(iRP1476.reactions.RFAMPtpp.reaction)\n",
    "print(iRP1476.reactions.MINCYCtpp.reaction)\n",
    "print(iRP1476.reactions.Resocteff.reaction)\n",
    "print(iRP1476.reactions.ZN2teff_e.reaction)\n",
    "print(iRP1476.reactions.CRO4t3pp.reaction)\n",
    "print(iRP1476.reactions.DOXRBCNtpp.reaction)\n",
    "print(iRP1476.reactions.FUSAtpp.reaction)\n",
    "print(iRP1476.reactions.acfvteff.reaction)\n",
    "print(iRP1476.reactions.ampiteff.reaction)\n",
    "print(iRP1476.reactions.NOVBCNtpp.reaction)\n",
    "print(iRP1476.reactions.TTRCYCtpp.reaction)\n",
    "print(iRP1476.reactions.ZN2t3pp.reaction)\n",
    "print(iRP1476.reactions.Berbteff.reaction)\n",
    "print(iRP1476.reactions.Tomteff.reaction)\n",
    "print(iRP1476.reactions.Fusarteff.reaction)\n",
    "print(iRP1476.reactions.CANAt2pp.reaction)\n",
    "print(iRP1476.reactions.HG2t3pp.reaction)\n",
    "\n",
    "print(iRP1476.reactions.HG2abcpp.reaction)\n",
    "print(iRP1476.reactions.ZN2abcpp.reaction)\n",
    "print(iRP1476.reactions.CD2abcpp.reaction)\n",
    "print(iRP1476.reactions.NI2abcpp.reaction)\n",
    "\n",
    "print(iRP1476.reactions.CD2t4pp.reaction)\n",
    "print(iRP1476.reactions.ZN2t4pp.reaction)\n"
   ]
  },
  {
   "cell_type": "code",
   "execution_count": 14,
   "id": "f88adb7c-e492-4b17-83db-3befe586f9ea",
   "metadata": {},
   "outputs": [
    {
     "name": "stdout",
     "output_type": "stream",
     "text": [
      "unknown metabolite 'naldx_c' created\n",
      "unknown metabolite 'cm_c' created\n",
      "unknown metabolite 'esclt_c' created\n",
      "unknown metabolite 'cafe_c' created\n",
      "unknown metabolite 'rfamp_c' created\n",
      "unknown metabolite 'mincyc_c' created\n",
      "unknown metabolite 'resoc_c' created\n",
      "unknown metabolite 'doxrbcn_c' created\n",
      "unknown metabolite 'fusa_c' created\n",
      "unknown metabolite 'acfv_c' created\n",
      "unknown metabolite 'ampi_c' created\n",
      "unknown metabolite 'novbcn_c' created\n",
      "unknown metabolite 'ttrcyc_c' created\n",
      "unknown metabolite 'berb_c' created\n",
      "unknown metabolite 'tom_c' created\n",
      "unknown metabolite 'fusar_c' created\n"
     ]
    }
   ],
   "source": [
    "iRP1476.reactions.Naldxteff.build_reaction_from_string('h_p + naldx_p --> h_c + naldx_c')\n",
    "iRP1476.reactions.CD2teff_e.build_reaction_from_string('cd2_p + h_p --> h_c + cd2_c')\n",
    "iRP1476.reactions.NI2t3pp.build_reaction_from_string('h_p + ni2_c --> h_c + ni2_p')\n",
    "iRP1476.reactions.CD2t3pp.build_reaction_from_string('cd2_c + h_p --> h_c + cd2_p')\n",
    "iRP1476.reactions.AGt3pp.build_reaction_from_string('ag_c + h_p --> h_c + ag_p')\n",
    "iRP1476.reactions.CMtpp.build_reaction_from_string('cm_p + h_p --> h_c + cm_c')\n",
    "iRP1476.reactions.Escltteff.build_reaction_from_string('esclt_p + h_p --> h_c + esclt_c')\n",
    "iRP1476.reactions.cafeteff.build_reaction_from_string('cafe_p + h_p --> h_c + cafe_c')\n",
    "iRP1476.reactions.RFAMPtpp.build_reaction_from_string('h_p + rfamp_p --> h_c + rfamp_c')\n",
    "iRP1476.reactions.MINCYCtpp.build_reaction_from_string('h_p + mincyc_p --> h_c + mincyc_c')\n",
    "iRP1476.reactions.Resocteff.build_reaction_from_string('h_p + resoc_p --> h_c + resoc_c')\n",
    "iRP1476.reactions.ZN2teff_e.build_reaction_from_string('h_p + zn2_p --> h_c + zn2_c')\n",
    "iRP1476.reactions.CRO4t3pp.build_reaction_from_string('cro4_c + h_p --> h_c + cro4_p')\n",
    "iRP1476.reactions.DOXRBCNtpp.build_reaction_from_string('doxrbcn_p + h_p --> h_c + doxrbcn_c')\n",
    "iRP1476.reactions.FUSAtpp.build_reaction_from_string('fusa_p + h_p --> h_c + fusa_c')\n",
    "iRP1476.reactions.acfvteff.build_reaction_from_string('acfv_p + h_p --> h_c + acfv_c')\n",
    "iRP1476.reactions.ampiteff.build_reaction_from_string('ampi_p + h_p --> h_c + ampi_c')\n",
    "iRP1476.reactions.NOVBCNtpp.build_reaction_from_string('h_p + novbcn_p --> h_c + novbcn_c')\n",
    "iRP1476.reactions.TTRCYCtpp.build_reaction_from_string('h_p + ttrcyc_p --> h_c + ttrcyc_c')\n",
    "iRP1476.reactions.ZN2t3pp.build_reaction_from_string('h_p + zn2_c --> h_c + zn2_p')\n",
    "iRP1476.reactions.Berbteff.build_reaction_from_string('berb_p + h_p --> h_c + berb_c')\n",
    "iRP1476.reactions.Tomteff.build_reaction_from_string('h_p + tom_p --> h_c + tom_c')\n",
    "iRP1476.reactions.Fusarteff.build_reaction_from_string('fusar_p + h_p --> h_c + fusar_c')\n",
    "iRP1476.reactions.CANAt2pp.build_reaction_from_string('cana__L_c + h_p --> h_c + cana__L_p')\n",
    "iRP1476.reactions.HG2t3pp.build_reaction_from_string('h_p + hg2_c --> h_c + hg2_p')\n",
    "\n",
    "iRP1476.reactions.HG2abcpp.build_reaction_from_string('atp_c + h2o_c + hg2_c --> hg2_p + adp_c + h_c + pi_c')\n",
    "iRP1476.reactions.ZN2abcpp.build_reaction_from_string('atp_c + h2o_c + zn2_c --> zn2_p + adp_c + h_c + pi_c')\n",
    "iRP1476.reactions.CD2abcpp.build_reaction_from_string('atp_c + h2o_c + cd2_c --> cd2_p + adp_c + h_c + pi_c')\n",
    "iRP1476.reactions.NI2abcpp.build_reaction_from_string('atp_c + h2o_c + ni2_c --> ni2_p + adp_c + h_c + pi_c')\n",
    "\n",
    "iRP1476.reactions.CD2t4pp.build_reaction_from_string('cd2_c + h_p + k_p --> cd2_p + h_c + k_c')\n",
    "iRP1476.reactions.ZN2t4pp.build_reaction_from_string('zn2_c + h_p + k_p --> zn2_p + h_c + k_c')\n"
   ]
  },
  {
   "cell_type": "code",
   "execution_count": 15,
   "id": "8451bb1c-aef7-451a-bb57-e7aebcb1abb8",
   "metadata": {},
   "outputs": [],
   "source": [
    "iRP1476.metabolites.naldx_c.compartment = 'c'\n",
    "iRP1476.metabolites.cm_c.compartment = 'c'\n",
    "iRP1476.metabolites.esclt_c.compartment = 'c'\n",
    "iRP1476.metabolites.cafe_c.compartment = 'c'\n",
    "iRP1476.metabolites.rfamp_c.compartment = 'c'\n",
    "iRP1476.metabolites.mincyc_c.compartment = 'c'\n",
    "iRP1476.metabolites.resoc_c.compartment = 'c'\n",
    "iRP1476.metabolites.doxrbcn_c.compartment = 'c'\n",
    "iRP1476.metabolites.fusa_c.compartment = 'c'\n",
    "iRP1476.metabolites.acfv_c.compartment = 'c'\n",
    "iRP1476.metabolites.ampi_c.compartment = 'c'\n",
    "iRP1476.metabolites.novbcn_c.compartment = 'c'\n",
    "iRP1476.metabolites.ttrcyc_c.compartment = 'c'\n",
    "iRP1476.metabolites.berb_c.compartment = 'c'\n",
    "iRP1476.metabolites.tom_c.compartment = 'c'\n",
    "iRP1476.metabolites.fusar_c.compartment = 'c'"
   ]
  },
  {
   "cell_type": "code",
   "execution_count": 16,
   "id": "48a66744-c5b3-405c-bce4-1dd92a51b363",
   "metadata": {},
   "outputs": [
    {
     "name": "stdout",
     "output_type": "stream",
     "text": [
      "[]\n"
     ]
    }
   ],
   "source": [
    "# launch the memote function (again)\n",
    "# check if the stoichiometric consistency is restored:\n",
    "\n",
    "un_mids = [m.id for m in find_unconserved_metabolites(iRP1476)]\n",
    "print(un_mids)"
   ]
  },
  {
   "cell_type": "markdown",
   "id": "7b332090-8496-43d1-a400-3e29d78a3894",
   "metadata": {},
   "source": [
    "## correct GPRs"
   ]
  },
  {
   "cell_type": "code",
   "execution_count": 17,
   "id": "4b3e6ddd-0b49-495e-b476-34838ce29dc7",
   "metadata": {},
   "outputs": [],
   "source": [
    "# correct gprs: \n",
    "\n",
    "ARBTNLSYN = iRP1476.reactions.ARBTNLSYN\n",
    "ARBTNLSYN.gene_reaction_rule = \"RSp0419 and RSp0421 and RSp0422\"  # correct RSp042 to RSp0421.\n",
    "ARBTNLSYN.update_genes_from_gpr()\n"
   ]
  },
  {
   "cell_type": "markdown",
   "id": "8f7e4186-3fb6-4851-91a6-acf204fe1ab5",
   "metadata": {},
   "source": [
    "## remove anti-convention genes"
   ]
  },
  {
   "cell_type": "code",
   "execution_count": 18,
   "id": "b106a49c-19b9-416c-a8dd-73c9a6bfb193",
   "metadata": {
    "tags": []
   },
   "outputs": [],
   "source": [
    "# rename genes, adjust gprs:\n",
    "for r in iRP1476.reactions:\n",
    "    gpr = r.gene_reaction_rule\n",
    "    \n",
    "    # each gene must be surrounded by spaces:\n",
    "    gpr = ' ' + gpr.replace('(', '( ').replace(')', ') ') + ' '\n",
    "    for g in r.genes: \n",
    "        if g.id.startswith('G_'): gpr = gpr.replace(f' {g.id} ', f' {g.id[2:]} ')\n",
    "        if g.id.startswith('e'):  gpr = gpr.replace(f' {g.id} ', f'  ')              # exchanges\n",
    "        if g.id.startswith('d'):  gpr = gpr.replace(f' {g.id} ', f' spontaneous ')   # diffusions\n",
    "        if g.id.startswith('s'):  gpr = gpr.replace(f' {g.id} ', f' spontaneous ')   # spontaneous\n",
    "        if g.id == 'NoAssignment':  gpr = gpr.replace(f' {g.id} ', f'  ')\n",
    "    gpr = gpr.replace('(', '( ').replace(')', ') ')[1:-1]\n",
    "    r.gene_reaction_rule = gpr\n",
    "    r.update_genes_from_gpr()\n",
    "    \n",
    "    \n",
    "# remove genes remained without associated reactions: \n",
    "to_remove = []\n",
    "for g in iRP1476.genes:\n",
    "    if len(g.reactions) == 0:\n",
    "        to_remove.append(g)\n",
    "cobra.manipulation.remove_genes(iRP1476, to_remove, remove_reactions=False)"
   ]
  },
  {
   "cell_type": "markdown",
   "id": "78eff87c-3494-4b7d-8af4-112eeb84d3cc",
   "metadata": {},
   "source": [
    "## remove strain-specific biom precursors"
   ]
  },
  {
   "cell_type": "code",
   "execution_count": 19,
   "id": "37db9343-8ac3-40da-9f96-d2cec6f46ece",
   "metadata": {
    "tags": []
   },
   "outputs": [
    {
     "name": "stdout",
     "output_type": "stream",
     "text": [
      "gempipe v1.37.6 - sanity_report\n",
      "model ID: iRP1476\n",
      "G: 1477 R: 2644 M: 2137 uM: 1420 groups: 253\n",
      "Compartments: ['c', 'e', 'p']\n",
      "Biomass assemblies: 1 ['BIOMASS']\n",
      "Objectives: 1 ['BIOMASS']\n",
      "Optimization: 96.373688558369 optimal (cplex)\n",
      "Unconstrained LB-UB: (-1000.0, 1000.0)\n",
      "Bad EX_change notation: 2\n",
      "Sink/demand: 14\n",
      "Constrained metabolic: 0\n",
      "With 'artificial' atoms: 0\n",
      "Missing formulas - charges: 2137 - 2137\n",
      "Mass - charge unbalances: 0 - 0\n"
     ]
    }
   ],
   "source": [
    "# spmd_c Spermidine\n",
    "# adocbl_c Adenosylcobalamin\n",
    "\n",
    "BIOMASS = iRP1476.reactions.BIOMASS\n",
    "ba = BIOMASS.reaction\n",
    "ba = ba.replace(' + 0.006744 spmd_c', '')\n",
    "ba = ba.replace(' + 0.000223 adocbl_c', '')\n",
    "iRP1476.reactions.BIOMASS.build_reaction_from_string(ba)\n",
    "\n",
    "gempipe.sanity_report(iRP1476)"
   ]
  },
  {
   "cell_type": "markdown",
   "id": "adadf4d8-6c45-4693-bb5b-69f627df4a2d",
   "metadata": {},
   "source": [
    "## add Ca2+ uptake"
   ]
  },
  {
   "cell_type": "code",
   "execution_count": 20,
   "id": "6ecc30ab-929d-4ba4-ac11-a43763980044",
   "metadata": {},
   "outputs": [],
   "source": [
    "uni = gempipe.get_universe('neg')\n",
    "\n",
    "gempipe.import_from_universe(iRP1476, uni, 'EX_ca2_e')\n",
    "gempipe.import_from_universe(iRP1476, uni, 'CAt4')\n",
    "\n",
    "# now formula/charges for Ca2+ have been added\n",
    "# but the reference doesn't use formula/charges:\n",
    "\n",
    "iRP1476.metabolites.ca2_e.formula = None\n",
    "iRP1476.metabolites.ca2_e.charge = None\n",
    "\n",
    "iRP1476.metabolites.ca2_c.formula = None\n",
    "iRP1476.metabolites.ca2_c.charge = None"
   ]
  },
  {
   "cell_type": "markdown",
   "id": "ffbdd9c1-6682-47db-8661-be03c894a1ae",
   "metadata": {},
   "source": [
    "## save medium recipe"
   ]
  },
  {
   "cell_type": "code",
   "execution_count": 21,
   "id": "8b5358fd-bf2a-487a-b0ca-d5424c943910",
   "metadata": {},
   "outputs": [
    {
     "data": {
      "text/plain": [
       "0.999991187577652"
      ]
     },
     "execution_count": 21,
     "metadata": {},
     "output_type": "execute_result"
    }
   ],
   "source": [
    "apply_medium(iRP1476)\n",
    "iRP1476.reactions.get_by_id('EX_glc__D_e').lower_bound = 0\n",
    "iRP1476.reactions.get_by_id('EX_gln__L_e').lower_bound = -10\n",
    "iRP1476.slim_optimize() "
   ]
  },
  {
   "cell_type": "code",
   "execution_count": 22,
   "id": "e7b95dec-b7db-4a40-b5e7-db5e504ce45c",
   "metadata": {},
   "outputs": [],
   "source": [
    "# save the recipe for gap-filling\n",
    "# for gempipe\n",
    "save_recipe(iRP1476, flavour='gempipe', medium_id='medium_gempipe', outpath='02_ralstonia/reference/')\n",
    "# for carveme\n",
    "save_recipe(iRP1476, flavour='carveme', medium_id='medium_carveme', outpath='02_ralstonia/reference/')\n",
    "# for bactabolize\n",
    "save_recipe(iRP1476, flavour='bactabolize', medium_id='medium_bactabolize', outpath='02_ralstonia/reference/')"
   ]
  },
  {
   "cell_type": "markdown",
   "id": "eaaa684d-d389-445c-a297-92fdf4afebb7",
   "metadata": {},
   "source": [
    "## get proteomes"
   ]
  },
  {
   "cell_type": "code",
   "execution_count": 23,
   "id": "e54c8e10-83dc-4841-a15b-7fe2b78ce107",
   "metadata": {},
   "outputs": [
    {
     "name": "stdout",
     "output_type": "stream",
     "text": [
      "Recovered 1427 / 1476.\n",
      "Missing 49 : {'RS03939', 'RS00235', 'RS04005', 'RS03937', 'RS03940', 'RS04001', 'RS05382', 'RS02662', 'RS05586', 'RS05732', 'RS04716', 'RS03460', 'RS04914', 'RS00330', 'RS05381', 'RS03325', 'RS04383', 'RS04532', 'RS05585', 'RS03461', 'RS04003', 'RS02400', 'RSc3445', 'RS05795', 'RS01162', 'RS03726', 'RS02886', 'RS05584', 'RS01507', 'RS03938', 'RS04528', 'RS01505', 'RS04531', 'RS04002', 'RS04530', 'RS01509', 'RS03760', 'RS02241', 'RS04004', 'RS00484', 'RS05583', 'RS04829', 'RALSOc_3512', 'RS00236', 'RS02887', 'RS02877', 'RS05733', 'RS03462', 'RS04529'}\n",
      "Recovered 1427 / 1476.\n",
      "Missing 49 : {'RS03939', 'RS00235', 'RS04005', 'RS03937', 'RS03940', 'RS04001', 'RS05382', 'RS02662', 'RS05586', 'RS05732', 'RS04716', 'RS03460', 'RS04914', 'RS00330', 'RS05381', 'RS03325', 'RS04383', 'RS04532', 'RS05585', 'RS03461', 'RS04003', 'RS02400', 'RSc3445', 'RS05795', 'RS01162', 'RS03726', 'RS02886', 'RS05584', 'RS01507', 'RS03938', 'RS04528', 'RS01505', 'RS04531', 'RS04002', 'RS04530', 'RS01509', 'RS03760', 'RS02241', 'RS04004', 'RS00484', 'RS05583', 'RS04829', 'RALSOc_3512', 'RS00236', 'RS02887', 'RS02877', 'RS05733', 'RS03462', 'RS04529'}\n"
     ]
    }
   ],
   "source": [
    "# get FASTA proteomes of modeled genes\n",
    "# nucleotidic\n",
    "added = fasta_to_modeled(iRP1476, ['02_ralstonia/reference/AL646052.1.fna', '02_ralstonia/reference/AL646053.1.fna'], '02_ralstonia/reference/iRP1476.fna')\n",
    "# amino aicdic\n",
    "added = fasta_to_modeled(iRP1476, ['02_ralstonia/reference/AL646052.1.faa', '02_ralstonia/reference/AL646053.1.faa'], '02_ralstonia/reference/iRP1476.faa')"
   ]
  },
  {
   "cell_type": "code",
   "execution_count": 24,
   "id": "a8696473-1786-462f-a3df-ff02aeab57fb",
   "metadata": {},
   "outputs": [
    {
     "name": "stderr",
     "output_type": "stream",
     "text": [
      "/opt/conda/lib/python3.9/site-packages/Bio/Seq.py:3482: BiopythonWarning: Partial codon, len(sequence) not a multiple of three. Explicitly trim the sequence or add trailing N before translation. This may become an error in future.\n",
      "  warnings.warn(\n"
     ]
    },
    {
     "name": "stdout",
     "output_type": "stream",
     "text": [
      "Recovered 1474 / 1476.\n",
      "Missing 2 : {'RALSOc_3512', 'RSc3445'}\n",
      "Recovered 1474 / 1476.\n",
      "Missing 2 : {'RALSOc_3512', 'RSc3445'}\n"
     ]
    }
   ],
   "source": [
    "# parsing GenBanks more sequences are recovered:\n",
    "gb_files = ['02_ralstonia/reference/AL646052.1.gb', '02_ralstonia/reference/AL646053.1.gb', '02_ralstonia/reference/NC_003295.1.gb', '02_ralstonia/reference/NC_003296.1.gb']\n",
    "# nucleotidic\n",
    "added = gb_to_modeled(iRP1476, gb_files, '02_ralstonia/reference/iRP1476.fna')\n",
    "# amino aicdic\n",
    "added = gb_to_modeled(iRP1476, gb_files, '02_ralstonia/reference/iRP1476.faa')"
   ]
  },
  {
   "cell_type": "markdown",
   "id": "ea805ff0-4fbb-4e85-afb6-ffc5d33f1223",
   "metadata": {},
   "source": [
    "## remove missing genes"
   ]
  },
  {
   "cell_type": "code",
   "execution_count": 25,
   "id": "9316de71-de3b-4a35-b1d7-4d1b99db3c27",
   "metadata": {},
   "outputs": [
    {
     "name": "stdout",
     "output_type": "stream",
     "text": [
      "1475\n"
     ]
    }
   ],
   "source": [
    "# remove missing genes without removing reactions:\n",
    "\n",
    "to_remove = [iRP1476.genes.get_by_id('RSc3445'), iRP1476.genes.get_by_id('RALSOc_3512')]\n",
    "cobra.manipulation.remove_genes(iRP1476, to_remove, remove_reactions=False)\n",
    "\n",
    "print(len(iRP1476.genes))"
   ]
  },
  {
   "cell_type": "markdown",
   "id": "460174e0-18c0-4e4b-8e87-b176d2612a47",
   "metadata": {},
   "source": [
    "## check ATPM"
   ]
  },
  {
   "cell_type": "code",
   "execution_count": 26,
   "id": "2778061b-242b-4283-8fb6-4c80b863bb1f",
   "metadata": {},
   "outputs": [
    {
     "data": {
      "text/html": [
       "\n",
       "        <table>\n",
       "            <tr>\n",
       "                <td><strong>Reaction identifier</strong></td><td>NGAME</td>\n",
       "            </tr><tr>\n",
       "                <td><strong>Name</strong></td><td>Non_growth_associated_maintenance_energy</td>\n",
       "            </tr><tr>\n",
       "                <td><strong>Memory address</strong></td>\n",
       "                <td>0x7f88af12ee80</td>\n",
       "            </tr><tr>\n",
       "                <td><strong>Stoichiometry</strong></td>\n",
       "                <td>\n",
       "                    <p style='text-align:right'>atp_c + h2o_c --> adp_c + h_c + pi_c</p>\n",
       "                    <p style='text-align:right'>ATP + H2O --> ADP + proton_H_ + Phosphate</p>\n",
       "                </td>\n",
       "            </tr><tr>\n",
       "                <td><strong>GPR</strong></td><td></td>\n",
       "            </tr><tr>\n",
       "                <td><strong>Lower bound</strong></td><td>0.0</td>\n",
       "            </tr><tr>\n",
       "                <td><strong>Upper bound</strong></td><td>1000.0</td>\n",
       "            </tr>\n",
       "        </table>\n",
       "        "
      ],
      "text/plain": [
       "<Reaction NGAME at 0x7f88af12ee80>"
      ]
     },
     "execution_count": 26,
     "metadata": {},
     "output_type": "execute_result"
    }
   ],
   "source": [
    "iRP1476.reactions.get_by_id('NGAME')"
   ]
  },
  {
   "cell_type": "code",
   "execution_count": 27,
   "id": "b20b80a0-4bc8-42e3-9fd4-219a0a39ee6b",
   "metadata": {},
   "outputs": [
    {
     "name": "stdout",
     "output_type": "stream",
     "text": [
      "gempipe v1.37.6 - sanity_report\n",
      "model ID: iRP1476\n",
      "G: 1475 R: 2646 M: 2139 uM: 1421 groups: 253\n",
      "Compartments: ['c', 'e', 'p']\n",
      "Biomass assemblies: 1 ['BIOMASS']\n",
      "Objectives: 1 ['BIOMASS']\n",
      "Optimization: 0.999991187577652 optimal (cplex)\n",
      "Unconstrained LB-UB: (-1000.0, 1000.0)\n",
      "Bad EX_change notation: 2\n",
      "Sink/demand: 14\n",
      "Constrained metabolic: 1\n",
      "With 'artificial' atoms: 0\n",
      "Missing formulas - charges: 2139 - 2139\n",
      "Mass - charge unbalances: 0 - 0\n"
     ]
    }
   ],
   "source": [
    "iRP1476.reactions.get_by_id('NGAME').bounds = (8.38, 8.38)\n",
    "\n",
    "gempipe.sanity_report(iRP1476)"
   ]
  },
  {
   "cell_type": "markdown",
   "id": "b5449aa8-79ff-4992-aecc-d05c47236bb2",
   "metadata": {},
   "source": [
    "## save edited version"
   ]
  },
  {
   "cell_type": "code",
   "execution_count": 28,
   "id": "2038e244-e160-4552-a912-46a4413a9d46",
   "metadata": {},
   "outputs": [],
   "source": [
    "# save reference:\n",
    "cobra.io.write_sbml_model(iRP1476, '02_ralstonia/reference/iRP1476_edited.xml')"
   ]
  },
  {
   "cell_type": "markdown",
   "id": "7324bea2-c0f3-4ed2-9a86-1a080b5d50eb",
   "metadata": {},
   "source": [
    "# 03_pseudomonas"
   ]
  },
  {
   "cell_type": "code",
   "execution_count": 29,
   "id": "c56e93fc-628d-4ed5-a120-44c1d6119b60",
   "metadata": {},
   "outputs": [
    {
     "name": "stdout",
     "output_type": "stream",
     "text": [
      "gempipe v1.37.6 - sanity_report\n",
      "model ID: iJN1463\n",
      "G: 1462 R: 2927 M: 2153 uM: 1432 groups: 0\n",
      "Compartments: ['c', 'e', 'p']\n",
      "Biomass assemblies: 2 ['BIOMASS_KT2440_Core2', 'BIOMASS_KT2440_WT3']\n",
      "Objectives: 1 ['BIOMASS_KT2440_WT3']\n",
      "Optimization: 0.5861175448479812 optimal (cplex)\n",
      "Unconstrained LB-UB: (-999999.0, 999999.0)\n",
      "Bad EX_change notation: 0\n",
      "Sink/demand: 33\n",
      "Constrained metabolic: 2449\n",
      "With 'artificial' atoms: 199\n",
      "Missing formulas - charges: 0 - 0\n",
      "Mass - charge unbalances: 4 - 3\n"
     ]
    }
   ],
   "source": [
    "# load reference model\n",
    "iJN1463 = cobra.io.read_sbml_model('03_pseudomonas/reference/iJN1463.xml')\n",
    "gempipe.sanity_report(iJN1463)"
   ]
  },
  {
   "cell_type": "markdown",
   "id": "a801deb0-5f07-4167-af89-0981e11f9276",
   "metadata": {},
   "source": [
    "## restore stoichiometric consistency\n"
   ]
  },
  {
   "cell_type": "code",
   "execution_count": 30,
   "id": "e3d96183-a493-4f48-befb-2b168fc18369",
   "metadata": {},
   "outputs": [
    {
     "name": "stdout",
     "output_type": "stream",
     "text": [
      "['h_e', 'h_p', 'h_c']\n"
     ]
    }
   ],
   "source": [
    "# launch the memote function: \n",
    "\n",
    "un_mids = [m.id for m in find_unconserved_metabolites(iJN1463)]\n",
    "print(un_mids)"
   ]
  },
  {
   "cell_type": "code",
   "execution_count": 31,
   "id": "fee1de60-9b10-463a-97f3-4591e5228a49",
   "metadata": {},
   "outputs": [],
   "source": [
    "iJN1463.reactions.HDH.build_reaction_from_string(\n",
    "    'h2o_c + histd_c + 2.0 nad_c --> 3.0 h_c + his__L_c + 2.0 nadh_c')\n",
    "iJN1463.reactions.APPAT.build_reaction_from_string(\n",
    "    'atp_c + h_c + pan4p_c --> dpcoa_c + ppi_c')\n",
    "iJN1463.reactions.ARGDI.build_reaction_from_string(\n",
    "    'arg__L_c + h2o_c --> citr__L_c + nh4_c')\n",
    "iJN1463.reactions.PPRGL.build_reaction_from_string(\n",
    "    'atp_c + gly_c + pram_c --> adp_c + gar_c + h_c + pi_c')\n",
    "iJN1463.reactions.REPHACCOAT.build_reaction_from_string(\n",
    "    'rephaccoa_c --> coa_c + rephac_c')\n",
    "iJN1463.reactions.IDPh_1.build_reaction_from_string(\n",
    "    'h2o_c + ppi_c --> 2.0 pi_c + h_c')\n",
    "iJN1463.reactions.MEPCT_1.build_reaction_from_string(\n",
    "    '2me4p_c + ctp_c + h_c --> 4c2me_c + ppi_c')\n",
    "\n",
    "\n",
    "# FE3PYOVDDR fe3pyovd_p <=> fe2_p + pyovd_p (-999999.0, 999999.0)\n",
    "# FE3PYOVDL fe3pyovd_e <=> fe3_e + pyovd_e  (-999999.0, 999999.0)\n",
    "iJN1463.remove_reactions([iJN1463.reactions.FE3PYOVDDR, iJN1463.reactions.FE3PYOVDL])\n",
    "\n",
    "# PQQAC pqqA_kt_c --> 2.0 h_c + pqqAc_kt_c (0.0, 999999.0)\n",
    "# PQQFEP 4.0 h2o_c + pqqAc_kt_c --> 4pqq_c + tripeptide_c (0.0, 999999.0)\n",
    "iJN1463.metabolites.tripeptide_c.formula = 'RHO'\n",
    "iJN1463.reactions.PQQFEP.build_reaction_from_string(\n",
    "    '5.0 h2o_c + pqqAc_kt_c --> 4pqq_c + tripeptide_c')\n"
   ]
  },
  {
   "cell_type": "code",
   "execution_count": 32,
   "id": "d48943d6-de74-46f2-8fa2-28a543b11bbf",
   "metadata": {},
   "outputs": [
    {
     "name": "stdout",
     "output_type": "stream",
     "text": [
      "[]\n"
     ]
    }
   ],
   "source": [
    "# launch the memote function (again)\n",
    "# check if the stoichiometric consistency is restored:\n",
    "\n",
    "un_mids = [m.id for m in find_unconserved_metabolites(iJN1463)]\n",
    "print(un_mids)"
   ]
  },
  {
   "cell_type": "markdown",
   "id": "e7ae4302-2689-402c-979c-4805c36de6c8",
   "metadata": {},
   "source": [
    "## remove strain-specific biomass precursors"
   ]
  },
  {
   "cell_type": "code",
   "execution_count": 33,
   "id": "f9158969-0b2e-4fe8-89a6-a110b346c4dc",
   "metadata": {},
   "outputs": [
    {
     "name": "stdout",
     "output_type": "stream",
     "text": [
      "gempipe v1.37.6 - sanity_report\n",
      "model ID: iJN1463\n",
      "G: 1462 R: 2925 M: 2153 uM: 1432 groups: 0\n",
      "Compartments: ['c', 'e', 'p']\n",
      "Biomass assemblies: 2 ['BIOMASS_KT2440_Core2', 'BIOMASS_KT2440_WT3']\n",
      "Objectives: 1 ['BIOMASS_KT2440_Core2']\n",
      "Optimization: 0.5867762516977003 optimal (cplex)\n",
      "Unconstrained LB-UB: (-1000, 1000)\n",
      "Bad EX_change notation: 0\n",
      "Sink/demand: 33\n",
      "Constrained metabolic: 5\n",
      "With 'artificial' atoms: 199\n",
      "Missing formulas - charges: 0 - 0\n",
      "Mass - charge unbalances: 0 - 0\n"
     ]
    }
   ],
   "source": [
    "# set the unconstrained lb/ub to -1000/1000:\n",
    "gempipe.reset_unconstrained_bounds(iJN1463)\n",
    "\n",
    "# select the core biomass assembly\n",
    "iJN1463.reactions.BIOMASS_KT2440_WT3.bounds = (0,0 )\n",
    "iJN1463.reactions.BIOMASS_KT2440_Core2.bounds = (0,1000 )\n",
    "iJN1463.objective = 'BIOMASS_KT2440_Core2'\n",
    "\n",
    "gempipe.sanity_report(iJN1463)"
   ]
  },
  {
   "cell_type": "markdown",
   "id": "3faeab80-25e7-42d5-bc36-66c3a547638d",
   "metadata": {},
   "source": [
    "## save medium recipe"
   ]
  },
  {
   "cell_type": "code",
   "execution_count": 34,
   "id": "0427c04a-821b-4366-a4ba-98111b8f90a8",
   "metadata": {},
   "outputs": [
    {
     "data": {
      "text/plain": [
       "0.980737772748016"
      ]
     },
     "execution_count": 34,
     "metadata": {},
     "output_type": "execute_result"
    }
   ],
   "source": [
    "# set the main growth medium\n",
    "apply_medium(iJN1463)\n",
    "iJN1463.reactions.get_by_id('EX_na1_e').lower_bound = -1000   \n",
    "iJN1463.reactions.get_by_id('EX_ni2_e').lower_bound = -1000   \n",
    "\n",
    "iJN1463.slim_optimize()"
   ]
  },
  {
   "cell_type": "code",
   "execution_count": 35,
   "id": "6fd30945-043a-4cfe-b45a-a58825acc0ce",
   "metadata": {},
   "outputs": [],
   "source": [
    "# save the recipe for gap-filling\n",
    "# for gempipe\n",
    "save_recipe(iJN1463, flavour='gempipe', medium_id='medium_gempipe', outpath='03_pseudomonas/reference/')\n",
    "# for carveme and gempipe-rf\n",
    "with iJN1463:  # na1 are ni2 not in CarveMe's universal biomass\n",
    "    iJN1463.reactions.get_by_id('EX_na1_e').lower_bound = 0   \n",
    "    iJN1463.reactions.get_by_id('EX_ni2_e').lower_bound = 0 \n",
    "    save_recipe(iJN1463, flavour='carveme', medium_id='medium_carveme', outpath='03_pseudomonas/reference/')\n",
    "    save_recipe(iJN1463, flavour='gempipe', medium_id='medium_gempipe_rf', outpath='03_pseudomonas/reference/')\n",
    "# for bactabolize\n",
    "save_recipe(iJN1463, flavour='bactabolize', medium_id='medium_bactabolize', outpath='03_pseudomonas/reference/')"
   ]
  },
  {
   "cell_type": "markdown",
   "id": "fd57204d-69b6-41c0-9dae-25c8d1aa5ee8",
   "metadata": {},
   "source": [
    "## get proteomes"
   ]
  },
  {
   "cell_type": "code",
   "execution_count": 36,
   "id": "4f4f0059-5e5f-48cd-899d-217c90046596",
   "metadata": {},
   "outputs": [
    {
     "name": "stdout",
     "output_type": "stream",
     "text": [
      "Recovered 1441 / 1462.\n",
      "Missing 21 : {'pWW0_130', 'pWW0_094', 'PP_s0001', 'pWW0_099', 'pWW0_100', 'pWW0_090', 'pWW0_097', 'pWW0_101', 'pWW0_091', 'PP_3462', 'pWW0_095', 'pWW0_102', 'pWW0_128', 'pWW0_096', 'pWW0_129', 'pWW0_093', 'PP_2519', 'PP_3465', 'pWW0_127', 'pWW0_092', 'pWW0_131'}\n",
      "Recovered 1441 / 1462.\n",
      "Missing 21 : {'pWW0_130', 'pWW0_094', 'PP_s0001', 'pWW0_099', 'pWW0_100', 'pWW0_090', 'pWW0_097', 'pWW0_101', 'pWW0_091', 'PP_3462', 'pWW0_095', 'pWW0_102', 'pWW0_128', 'pWW0_096', 'pWW0_129', 'pWW0_093', 'PP_2519', 'PP_3465', 'pWW0_127', 'pWW0_092', 'pWW0_131'}\n"
     ]
    }
   ],
   "source": [
    "# parsing GenBanks more sequences are recovered:\n",
    "gb_files = ['03_pseudomonas/reference/NC_002947.4.gb']\n",
    "# nucleotidic\n",
    "added = gb_to_modeled(iJN1463, gb_files, '03_pseudomonas/reference/iJN1463.fna')\n",
    "# amino aicdic\n",
    "added = gb_to_modeled(iJN1463, gb_files, '03_pseudomonas/reference/iJN1463.faa')"
   ]
  },
  {
   "cell_type": "markdown",
   "id": "ba35a1a1-e72c-46ec-be29-6946e891ffff",
   "metadata": {},
   "source": [
    "## remove missing genes"
   ]
  },
  {
   "cell_type": "code",
   "execution_count": 37,
   "id": "f848fcd8-8289-41d1-bd8e-fc4a00ae24b8",
   "metadata": {},
   "outputs": [
    {
     "name": "stdout",
     "output_type": "stream",
     "text": [
      "1442\n"
     ]
    }
   ],
   "source": [
    "# remove missing genes without removing the reaction: \n",
    "to_remove = (set([g.id for g in iJN1463.genes]) - set(['PP_s0001'])) - added \n",
    "to_remove = [iJN1463.genes.get_by_id(gid) for gid in to_remove]\n",
    "cobra.manipulation.remove_genes(iJN1463, to_remove, remove_reactions=False)\n",
    "\n",
    "print(len(iJN1463.genes))"
   ]
  },
  {
   "cell_type": "markdown",
   "id": "f7b66a14-5804-433f-8cd9-ddc4f5f59c37",
   "metadata": {},
   "source": [
    "## check ATPM"
   ]
  },
  {
   "cell_type": "code",
   "execution_count": 38,
   "id": "84d7ea35-5dc0-41c7-a207-aa9fb3752151",
   "metadata": {},
   "outputs": [
    {
     "data": {
      "text/html": [
       "\n",
       "        <table>\n",
       "            <tr>\n",
       "                <td><strong>Reaction identifier</strong></td><td>ATPM</td>\n",
       "            </tr><tr>\n",
       "                <td><strong>Name</strong></td><td>ATP maintenance requirement</td>\n",
       "            </tr><tr>\n",
       "                <td><strong>Memory address</strong></td>\n",
       "                <td>0x7f885ecaf8b0</td>\n",
       "            </tr><tr>\n",
       "                <td><strong>Stoichiometry</strong></td>\n",
       "                <td>\n",
       "                    <p style='text-align:right'>atp_c + h2o_c --> adp_c + h_c + pi_c</p>\n",
       "                    <p style='text-align:right'>ATP C10H12N5O13P3 + H2O H2O --> ADP C10H12N5O10P2 + H+ + Phosphate</p>\n",
       "                </td>\n",
       "            </tr><tr>\n",
       "                <td><strong>GPR</strong></td><td></td>\n",
       "            </tr><tr>\n",
       "                <td><strong>Lower bound</strong></td><td>0.92</td>\n",
       "            </tr><tr>\n",
       "                <td><strong>Upper bound</strong></td><td>0.92</td>\n",
       "            </tr>\n",
       "        </table>\n",
       "        "
      ],
      "text/plain": [
       "<Reaction ATPM at 0x7f885ecaf8b0>"
      ]
     },
     "execution_count": 38,
     "metadata": {},
     "output_type": "execute_result"
    }
   ],
   "source": [
    "iJN1463.reactions.get_by_id('ATPM')"
   ]
  },
  {
   "cell_type": "markdown",
   "id": "310c7c29-cd39-40e4-a8ea-a887ad11f801",
   "metadata": {},
   "source": [
    "## save edited version"
   ]
  },
  {
   "cell_type": "code",
   "execution_count": 39,
   "id": "1613578e-78fc-4a65-ae14-78b62136145e",
   "metadata": {},
   "outputs": [],
   "source": [
    "# save reference:\n",
    "cobra.io.write_sbml_model(iJN1463, '03_pseudomonas/reference/iJN1463_edited.xml')"
   ]
  },
  {
   "cell_type": "code",
   "execution_count": null,
   "id": "3623b743-bc8e-4afb-8268-16886191f94e",
   "metadata": {},
   "outputs": [],
   "source": []
  }
 ],
 "metadata": {
  "kernelspec": {
   "display_name": "Python 3 (ipykernel)",
   "language": "python",
   "name": "python3"
  },
  "language_info": {
   "codemirror_mode": {
    "name": "ipython",
    "version": 3
   },
   "file_extension": ".py",
   "mimetype": "text/x-python",
   "name": "python",
   "nbconvert_exporter": "python",
   "pygments_lexer": "ipython3",
   "version": "3.9.15"
  }
 },
 "nbformat": 4,
 "nbformat_minor": 5
}
