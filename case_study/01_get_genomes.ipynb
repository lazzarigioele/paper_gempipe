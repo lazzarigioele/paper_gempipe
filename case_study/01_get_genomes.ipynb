{
 "cells": [
  {
   "cell_type": "code",
   "execution_count": 1,
   "id": "da7aa3be-3723-4dd3-87da-8e07f0064003",
   "metadata": {},
   "outputs": [],
   "source": [
    "# Bash scripts are run via SLURM.\n",
    "# see commands/01_get_genomes.sh\n",
    "# see commands/02_extract_genomes.sh"
   ]
  },
  {
   "cell_type": "code",
   "execution_count": null,
   "id": "70c4183a-b365-4b91-9cfb-eea023687a4e",
   "metadata": {},
   "outputs": [],
   "source": []
  }
 ],
 "metadata": {
  "kernelspec": {
   "display_name": "Python 3 (ipykernel)",
   "language": "python",
   "name": "python3"
  },
  "language_info": {
   "codemirror_mode": {
    "name": "ipython",
    "version": 3
   },
   "file_extension": ".py",
   "mimetype": "text/x-python",
   "name": "python",
   "nbconvert_exporter": "python",
   "pygments_lexer": "ipython3",
   "version": "3.9.15"
  }
 },
 "nbformat": 4,
 "nbformat_minor": 5
}
