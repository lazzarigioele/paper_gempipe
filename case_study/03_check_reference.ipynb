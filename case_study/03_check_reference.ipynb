{
 "cells": [
  {
   "cell_type": "code",
   "execution_count": 1,
   "id": "0eaf5d2a-a862-4deb-bb48-6f3a18cda48c",
   "metadata": {},
   "outputs": [],
   "source": [
    "import gempipe\n",
    "import cobra"
   ]
  },
  {
   "cell_type": "markdown",
   "id": "0a23f6dc-e0f8-49ee-b24c-19bf13b0f687",
   "metadata": {},
   "source": [
    "# Testing reference GSMM\n",
    "\n",
    "Before preceeding with `gempipe recon`"
   ]
  },
  {
   "cell_type": "code",
   "execution_count": 2,
   "id": "7250d9c9-6492-49b6-a69e-22a3d62b7204",
   "metadata": {},
   "outputs": [],
   "source": [
    "Lreuteri_530 = cobra.io.read_sbml_model('reference/Lreuteri_530.xml')"
   ]
  },
  {
   "cell_type": "code",
   "execution_count": 3,
   "id": "39f3ce2b-97c3-42ba-bfd8-03a8edb028fe",
   "metadata": {},
   "outputs": [
    {
     "name": "stdout",
     "output_type": "stream",
     "text": [
      "gempipe v1.37.7 - sanity_report\n",
      "model ID: LbReuteri\n",
      "G: 530 R: 714 M: 660 uM: 562 groups: 0\n",
      "Compartments: ['', 'c', 'e']\n",
      "Biomass assemblies: 1 ['BIOMASS']\n",
      "Objectives: 1 ['BIOMASS']\n",
      "Optimization: 0.7265808565661749 optimal (cplex)\n",
      "Unconstrained LB-UB: (-1000.0, 1000.0)\n",
      "Bad EX_change notation: 0\n",
      "Sinks/demands: 3\n",
      "Constrained metabolic: 3\n",
      "With 'artificial' atoms: 88\n",
      "Missing formulas - charges: 21 - 0\n",
      "Mass - charge unbalances: 6 - 7\n"
     ]
    }
   ],
   "source": [
    "gempipe.sanity_report(Lreuteri_530)"
   ]
  },
  {
   "cell_type": "code",
   "execution_count": 4,
   "id": "71e9f788-7468-480f-9a39-7fcdc8966ea8",
   "metadata": {},
   "outputs": [],
   "source": [
    "# there are 61 reactions with 'None' as GPR. \n",
    "# there is no distinction between orphans and spontaneous.\n",
    "# 'None' has been modeled as a string. \n",
    "# Remove the gene 'None':\n",
    "cnt = 0\n",
    "for r in Lreuteri_530.reactions:  # 61\n",
    "    if r.gene_reaction_rule == 'None': #and r.id.startswith('EX_')==False: \n",
    "        r.gene_reaction_rule = ''\n",
    "        r.update_genes_from_gpr()\n",
    "        cnt += 1\n",
    "        #print(cnt, '\\t', r.id, '\\n\\t', r.name, '\\n\\t', r.reaction)\n",
    "cobra.manipulation.delete.remove_genes(Lreuteri_530, ['None'], remove_reactions=False)"
   ]
  },
  {
   "cell_type": "code",
   "execution_count": 5,
   "id": "802fc63a-09e4-4aeb-80e9-254fb9a20436",
   "metadata": {},
   "outputs": [],
   "source": [
    "# there is a strange compartment (''), fix here:\n",
    "for m in Lreuteri_530.metabolites: \n",
    "    if m.compartment == '': \n",
    "        if m.id.endswith('_e'): m.compartment = 'e'\n",
    "        if m.id.endswith('_c'): m.compartment = 'c'"
   ]
  },
  {
   "cell_type": "code",
   "execution_count": 6,
   "id": "7ea8a573-0f8d-4a8e-819e-b5adc863a15c",
   "metadata": {},
   "outputs": [
    {
     "name": "stdout",
     "output_type": "stream",
     "text": [
      "1 : DM_2ahbut_c : 2ahbut_c -->  : (0.0, 1000.0)\n",
      "0.7265808565661749 optimal\n",
      "0.7265808565661749 optimal\n"
     ]
    }
   ],
   "source": [
    "# the model has a demand that is not needed for growth in these conditions: \n",
    "gempipe.check_sinks_demands(Lreuteri_530)\n",
    "with Lreuteri_530: \n",
    "    res = Lreuteri_530.optimize()\n",
    "    print(res.objective_value, res.status)\n",
    "    Lreuteri_530.reactions.DM_2ahbut_c.bounds = (0, 0)\n",
    "    res = Lreuteri_530.optimize()\n",
    "    print(res.objective_value, res.status)"
   ]
  },
  {
   "cell_type": "code",
   "execution_count": 7,
   "id": "d3dfe43f-6848-4cd0-b8fd-304b4a1fd353",
   "metadata": {},
   "outputs": [
    {
     "name": "stdout",
     "output_type": "stream",
     "text": [
      "1 : TDPDRR : (-1000.0, 0.0) : dtdprmn_c + nadp_c <-- dtdp4d6dm_c + h_c + nadph_c\n",
      "2 : ATPM : (0.36, 0.36) : atp_c + h2o_c --> adp_c + h_c + pi_c\n",
      "3 : PFK : (-1000.0, 2.0) : atp_c + f6p_c <=> adp_c + fdp_c + h_c\n"
     ]
    }
   ],
   "source": [
    "_ = gempipe.check_constrained_metabolic(Lreuteri_530)"
   ]
  },
  {
   "cell_type": "code",
   "execution_count": 8,
   "id": "d5a22f49-09b1-4cd3-9263-a07228cd6edf",
   "metadata": {},
   "outputs": [
    {
     "name": "stdout",
     "output_type": "stream",
     "text": [
      "1 : X : but2eACP_c[C4H4OX], 2tddacp_c[C12H20OX], 2tdeacp_c[C10H16OX], ... (46 in total)\n",
      "2 : M : MCOOH_c[MCO2], MCOSH_c[MCHOS]\n",
      "3 : R : alatrna_c[C3H6NOR], argtrna_c[C6H14N4OR], asntrna_c[C14H24N2O12PR2], ... (40 in total)\n"
     ]
    }
   ],
   "source": [
    "_ = gempipe.check_artificial_atoms(Lreuteri_530, preview=3)"
   ]
  },
  {
   "cell_type": "code",
   "execution_count": 9,
   "id": "5975e093-4c5a-4fe6-98a9-75545eb77f17",
   "metadata": {},
   "outputs": [
    {
     "name": "stdout",
     "output_type": "stream",
     "text": [
      "1 : DAGK_LRE : atp_c + dag_LRE_c --> adp_c + h_c + pa_LRE_c : {'H': 1.0}\n",
      "2 : PGPP_LRE : h2o_c + pgp_LRE_c --> pg_LRE_c + pi_c : {'P': 1.0, 'O': 3.0}\n",
      "3 : CLPNS_LRE : 2.0 pg_LRE_c <=> clpn_LRE_c + glyc_c : {'C': 3.0, 'O': 3.0, 'H': 8.0}\n",
      "4 : PGSA_LRE : cdpdag_LRE_c + glyc3p_c <=> cmp_c + h_c + pgp_LRE_c : {'C': 6.0, 'O': 2.0, 'N': 3.0, 'H': 6.0}\n",
      "5 : PPOHt : ppoh_e <=> ppoh_c : {'C': 3.0, 'O': 1.0, 'H': 8.0}\n",
      "6 : PAP_LRE : h2o_c + pa_LRE_c --> dag_LRE_c + pi_c : {'P': 1.0, 'O': 3.0}\n"
     ]
    }
   ],
   "source": [
    "_ = gempipe.check_mass_unbalances(Lreuteri_530)"
   ]
  },
  {
   "cell_type": "code",
   "execution_count": 10,
   "id": "f3f2cc8a-0b47-4d83-bad3-4ea385025b9e",
   "metadata": {},
   "outputs": [
    {
     "name": "stdout",
     "output_type": "stream",
     "text": [
      "1 : DAGK_LRE : atp_c + dag_LRE_c --> adp_c + h_c + pa_LRE_c : {'charge': 2.0}\n",
      "2 : PGGT4 : uaagmdalac_c --> PGlac2_c + udcpdp_c : {'charge': 1.0}\n",
      "3 : RNAS_LRE : 0.710810743235 atp_c + 0.187747387186 ctp_c + 0.21245220899 gtp_c + 0.288989660589 utp_c --> RNA_LRE_c + 0.4 adp_c + 0.4 h_c + 0.4 pi_c + ppi_c : {'charge': 1.0}\n",
      "4 : PGSA_LRE : cdpdag_LRE_c + glyc3p_c <=> cmp_c + h_c + pgp_LRE_c : {'charge': 1.0}\n",
      "5 : GAT1_LRE : 0.0211 cpocdacp_c + glyc3p_c + 0.0258 hdeACP_c + 0.075 ocdacp_c + 0.0418 ocdctrACP_c + 0.3519 ocdcyaACP_c + 0.1591 octeACP_c + 0.2566 palmACP_c + 0.0687 tdeacp_c --> ACP_c + agly3p_LRE_c : {'charge': 2.0000000000000004}\n",
      "6 : DNAS_LRE : 1.37 atp_c + 0.310284595735 datp_c + 0.180906354753 dctp_c + 0.207484087701 dgtp_c + 0.301324961811 dttp_c + 1.37 h2o_c --> DNA_LRE_c + 1.37 adp_c + 1.37 h_c + 1.37 pi_c + ppi_c : {'charge': 0.9999999999999982}\n",
      "7 : CPSS_LRE : 4.0 h2o_c + 4.0 udpg_c <=> CPS_LRE_c + 5.0 h_c + 3.0 udp_c + ump_c : {'charge': 2.0}\n"
     ]
    }
   ],
   "source": [
    "_ =  gempipe.check_charge_unbalances(Lreuteri_530)"
   ]
  },
  {
   "cell_type": "code",
   "execution_count": 11,
   "id": "c90355f4-2c41-41c9-9011-06690440b7a3",
   "metadata": {},
   "outputs": [
    {
     "name": "stdout",
     "output_type": "stream",
     "text": [
      "unknown metabolite 'fadh2_c' created\n",
      "No energy-generating cycles (EGCs) found.\n"
     ]
    }
   ],
   "source": [
    "with Lreuteri_530: \n",
    "    Lreuteri_530.reactions.ATPM.bounds = (0,0)\n",
    "    gempipe.verify_egc_all(Lreuteri_530)"
   ]
  },
  {
   "cell_type": "markdown",
   "id": "07b4a5d7-e980-4d53-8b74-1f9f8d962f68",
   "metadata": {},
   "source": [
    "# Define growth medium"
   ]
  },
  {
   "cell_type": "code",
   "execution_count": 12,
   "id": "6dd192ef-5718-41a7-8d55-5709d27f44ae",
   "metadata": {},
   "outputs": [
    {
     "name": "stdout",
     "output_type": "stream",
     "text": [
      "EX_ura_e \t Exchange Uracil \t (-1000.0, 1000.0)\n",
      "EX_h2o_e \t Exchange H2O \t (-1000.0, 1000.0)\n",
      "EX_na1_e \t Exchange Sodium \t (-1000.0, 1000.0)\n",
      "EX_pnto__R_e \t Exchange (R)-Pantothenate \t (-1000.0, 1000.0)\n",
      "EX_val__L_e \t Exchange L-Valine \t (-1000.0, 1000.0)\n",
      "EX_ade_e \t Exchange Adenine \t (-1000.0, 1000.0)\n",
      "EX_cys__L_e \t Exchange L-Cysteine \t (-1000.0, 1000.0)\n",
      "EX_mn2_e \t Exchange Mn2+ \t (-1000.0, 1000.0)\n",
      "EX_btn_e \t Exchange Biotin \t (-1000.0, 1000.0)\n",
      "EX_his__L_e \t Exchange L-Histidine \t (-1000.0, 1000.0)\n",
      "EX_h_e \t Exchange H+ \t (-1000.0, 1000.0)\n",
      "EX_gua_e \t Exchange Guanine \t (-1000.0, 1000.0)\n",
      "EX_gly_e \t Exchange Glycine \t (-1000.0, 1000.0)\n",
      "EX_k_e \t Exchange K+ \t (-1000.0, 1000.0)\n",
      "EX_leu__L_e \t Exchange L-Leucine \t (-1000.0, 1000.0)\n",
      "EX_pi_e \t Exchange Phosphate \t (-1000.0, 1000.0)\n",
      "EX_4abz_e \t Exchange 4-Aminobenzoate \t (-1000.0, 1000.0)\n",
      "EX_phe__L_e \t Exchange L-Phenylalanine \t (-1000.0, 1000.0)\n",
      "EX_pydam_e \t Exchange Pyridoxamine \t (-1000.0, 1000.0)\n",
      "EX_ala__L_e \t Exchange L-Alanine \t (-1000.0, 1000.0)\n",
      "EX_mg2_e \t Exchange Mg \t (-1000.0, 1000.0)\n",
      "EX_ribflv_e \t Exchange Riboflavin \t (-1000.0, 1000.0)\n",
      "EX_lys__L_e \t Exchange L-Lysine \t (-1000.0, 1000.0)\n",
      "EX_nac_e \t Exchange Nicotinate \t (-1000.0, 1000.0)\n",
      "EX_pro__L_e \t Exchange L-Proline \t (-1000.0, 1000.0)\n",
      "EX_xan_e \t Exchange Xanthine \t (-1000.0, 1000.0)\n",
      "EX_fe2_e \t Exchange fe2 \t (-1000.0, 1000.0)\n",
      "EX_nh3_e \t Exchange Ammonia \t (-1000.0, 1000.0)\n",
      "EX_cobalt2_e \t Exchange Co2+ \t (-1000.0, 1000.0)\n",
      "EX_ile__L_e \t Exchange L-Isoleucine \t (-1000.0, 1000.0)\n",
      "EX_thr__L_e \t Exchange L-Threonine \t (-1000.0, 1000.0)\n",
      "EX_met__L_e \t Exchange L-Methionine \t (-1000.0, 1000.0)\n",
      "EX_thm_e \t Exchange Thiamin \t (-1000.0, 1000.0)\n",
      "EX_tyr__L_e \t Exchange L-Tyrosine \t (-1000.0, 1000.0)\n",
      "EX_trp__L_e \t Exchange L-Tryptophan \t (-1000.0, 1000.0)\n",
      "EX_so4_e \t Exchange sulfate \t (-1000.0, 1000.0)\n",
      "EX_hdcea_e \t Exchange Hexadecenoate (n-C16:1) \t (-1000.0, 1000.0)\n",
      "EX_ocdcea_e \t Exchange Octadecenoate (n-C18:1) \t (-1000.0, 1000.0)\n",
      "EX_ocdcya_e \t Exchange Octadecadienoate (n-C18:2) \t (-1000.0, 1000.0)\n",
      "EX_ocdctr_e \t Exchange octadecynoate (n-C18:3) \t (-1000.0, 1000.0)\n"
     ]
    }
   ],
   "source": [
    "# constrained EXR: 5 aa + glucose\n",
    "# 1 missing aa (glutamine)\n",
    "\n",
    "for r in Lreuteri_530.reactions: \n",
    "    if r.id.startswith('EX_') and r.lower_bound == -1000: \n",
    "        print(r.id,'\\t',  r.name, '\\t', r.bounds)"
   ]
  },
  {
   "cell_type": "code",
   "execution_count": 13,
   "id": "079212a9-e7b6-4407-977b-15f51c022777",
   "metadata": {},
   "outputs": [
    {
     "name": "stdout",
     "output_type": "stream",
     "text": [
      "EX_asp__L_e \t Exchange L-Aspartate \t (-0.29, 1000.0)\n",
      "EX_arg__L_e \t Exchange L-Arginine \t (-0.42, 1000.0)\n",
      "EX_glc__D_e \t Exchange D-Glucose \t (-25.2, 1000.0)\n",
      "EX_ser__L_e \t Exchange L-Serine \t (-0.34, 1000.0)\n",
      "EX_glu__L_e \t Exchange L-Glutamate \t (-0.47, 1000.0)\n",
      "EX_asn__L_e \t Aspargine exchange \t (-0.23, 1000.0)\n"
     ]
    }
   ],
   "source": [
    "for r in Lreuteri_530.reactions: \n",
    "    if r.id.startswith('EX_') and r.lower_bound < 0 and r.lower_bound > -1000: \n",
    "        print(r.id,'\\t',  r.name, '\\t', r.bounds)"
   ]
  },
  {
   "cell_type": "code",
   "execution_count": 14,
   "id": "ed79f4b6-36b2-4f5e-b00c-19c78eb267d4",
   "metadata": {},
   "outputs": [
    {
     "name": "stdout",
     "output_type": "stream",
     "text": [
      "EX_btd_RR_e \t Exchange (R,R)-2,3-Butanediol \t (0.0, 0.0)\n",
      "EX_ac_e \t Exchange Acetate \t (0.0, 0.0)\n",
      "EX_lac__D_e \t Exchange D-Lactate \t (0.0, 11.74)\n",
      "EX_lac__L_e \t Exchange L-Lactate \t (0.0, 11.74)\n",
      "EX_etoh_e \t Exchange Ethanol \t (0.0, 24.4)\n",
      "EX_13ppd_e \t Exchange Propane-1,3-diol \t (0.0, 0.0)\n"
     ]
    }
   ],
   "source": [
    "for r in Lreuteri_530.reactions: \n",
    "    if r.id.startswith('EX_') and r.upper_bound < 1000: \n",
    "        print(r.id,'\\t',  r.name, '\\t', r.bounds)"
   ]
  },
  {
   "cell_type": "code",
   "execution_count": 15,
   "id": "b4fc5de4-0c15-4e46-8340-b7e9e21c36d0",
   "metadata": {},
   "outputs": [
    {
     "name": "stdout",
     "output_type": "stream",
     "text": [
      "0.7265808565661712 optimal\n",
      "0.7443757243761258 optimal\n",
      "0.39096374766411396 optimal\n",
      "0.5650348730711057 optimal\n"
     ]
    }
   ],
   "source": [
    "\n",
    "res = Lreuteri_530.optimize()\n",
    "print(res.objective_value, res.status)\n",
    "\n",
    "# relax secretion exchanges\n",
    "Lreuteri_530.reactions.EX_btd_RR_e.bounds = (0, 1000)\n",
    "Lreuteri_530.reactions.EX_ac_e.bounds = (0, 1000)\n",
    "Lreuteri_530.reactions.EX_lac__D_e.bounds = (0, 1000)\n",
    "Lreuteri_530.reactions.EX_lac__L_e.bounds = (0, 1000)\n",
    "Lreuteri_530.reactions.EX_etoh_e.bounds = (0, 1000)\n",
    "Lreuteri_530.reactions.EX_13ppd_e.bounds = (0, 1000)\n",
    "\n",
    "res = Lreuteri_530.optimize()\n",
    "print(res.objective_value, res.status)\n",
    "\n",
    "for r in Lreuteri_530.reactions: \n",
    "    if r.id.startswith(\"EX_\"): \n",
    "        if r.lower_bound < 0: \n",
    "            r.lower_bound = -5\n",
    "\n",
    "res = Lreuteri_530.optimize()\n",
    "print(res.objective_value, res.status)\n",
    "\n",
    "Lreuteri_530.reactions.EX_glc__D_e.bounds = (-10, 0)\n",
    "\n",
    "res = Lreuteri_530.optimize()\n",
    "print(res.objective_value, res.status)\n",
    "            "
   ]
  },
  {
   "cell_type": "code",
   "execution_count": 16,
   "id": "32a7f99f-4caf-499f-a514-6fc324df1246",
   "metadata": {},
   "outputs": [
    {
     "name": "stdout",
     "output_type": "stream",
     "text": [
      "0.5650348730711057 optimal\n",
      "0.097535323040004 optimal\n"
     ]
    }
   ],
   "source": [
    "# verify growth in absence of glucose (useful for defing the --minflux parameter)\n",
    "\n",
    "# check growth without glucose: \n",
    "with Lreuteri_530: \n",
    "    res = Lreuteri_530.optimize()\n",
    "    print(res.objective_value, res.status)\n",
    "    Lreuteri_530.reactions.EX_glc__D_e.bounds = (0, 0)\n",
    "    res = Lreuteri_530.optimize()\n",
    "    print(res.objective_value, res.status)"
   ]
  },
  {
   "cell_type": "code",
   "execution_count": 17,
   "id": "6b9c87a8-16fe-470a-a587-fcd023f00971",
   "metadata": {},
   "outputs": [],
   "source": [
    "# save medium recipe:\n",
    "\n",
    "import os\n",
    "import json \n",
    "\n",
    "rows = {'name': 'cdm_reuteri', 'exchanges': {}}\n",
    "for r in Lreuteri_530.reactions:  # iterate over exchange reactions: \n",
    "    if len(r.metabolites)==1 and list(r.metabolites)[0].id.rsplit('_', 1)[-1] == 'e':\n",
    "        if r.bounds[0] < 0: \n",
    "            rows['exchanges'][r.id] = r.lower_bound\n",
    "\n",
    "os.makedirs('gempipe/', exist_ok=True)\n",
    "with open('gempipe/cdm_reuteri.json', \"w\") as json_file:\n",
    "    json.dump(rows, json_file)\n",
    "        "
   ]
  },
  {
   "cell_type": "code",
   "execution_count": 18,
   "id": "4364cd4f-321e-49bd-8825-51bfab00a246",
   "metadata": {},
   "outputs": [],
   "source": [
    "\n",
    "# save the model to file. \n",
    "cobra.io.save_json_model(Lreuteri_530, 'reference/Lreuteri_530_fixed.json')\n",
    "cobra.io.write_sbml_model(Lreuteri_530, 'reference/Lreuteri_530_fixed.xml')"
   ]
  },
  {
   "cell_type": "code",
   "execution_count": null,
   "id": "5a51327e-c853-43b9-bad4-c2d166d08c58",
   "metadata": {},
   "outputs": [],
   "source": []
  }
 ],
 "metadata": {
  "kernelspec": {
   "display_name": "Python 3 (ipykernel)",
   "language": "python",
   "name": "python3"
  },
  "language_info": {
   "codemirror_mode": {
    "name": "ipython",
    "version": 3
   },
   "file_extension": ".py",
   "mimetype": "text/x-python",
   "name": "python",
   "nbconvert_exporter": "python",
   "pygments_lexer": "ipython3",
   "version": "3.9.15"
  }
 },
 "nbformat": 4,
 "nbformat_minor": 5
}
