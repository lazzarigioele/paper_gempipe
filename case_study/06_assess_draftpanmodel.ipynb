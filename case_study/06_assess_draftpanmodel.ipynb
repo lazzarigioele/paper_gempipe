{
 "cells": [
  {
   "cell_type": "code",
   "execution_count": 1,
   "id": "a4983f10-d41c-41b0-a0b2-0659ff721468",
   "metadata": {},
   "outputs": [],
   "source": [
    "import gempipe\n",
    "import cobra"
   ]
  },
  {
   "cell_type": "markdown",
   "id": "ff20f415-19e5-47b9-8734-e86d34228817",
   "metadata": {},
   "source": [
    "# pan-GSMM assessment\n",
    "\n",
    "(post `gempipe recon`)"
   ]
  },
  {
   "cell_type": "code",
   "execution_count": 2,
   "id": "a67c70cd-11b1-46f3-9615-8c27a50775f6",
   "metadata": {},
   "outputs": [
    {
     "name": "stdout",
     "output_type": "stream",
     "text": [
      "Loading PAM (gempipe/output_recon/pam.csv)...\n",
      "Loading functional annotation table (gempipe/output_recon/annotation.csv)...\n",
      "Loading report table (gempipe/output_recon/report.csv)...\n",
      "Loading draft pan-GSMM (gempipe/output_recon/draft_panmodel.json)...\n"
     ]
    },
    {
     "data": {
      "text/html": [
       "\n",
       "        <table>\n",
       "            <tr>\n",
       "                <td><strong>Name</strong></td>\n",
       "                <td>LbReuteri</td>\n",
       "            </tr><tr>\n",
       "                <td><strong>Memory address</strong></td>\n",
       "                <td>7f4f106fbee0</td>\n",
       "            </tr><tr>\n",
       "                <td><strong>Number of metabolites</strong></td>\n",
       "                <td>1070</td>\n",
       "            </tr><tr>\n",
       "                <td><strong>Number of reactions</strong></td>\n",
       "                <td>1237</td>\n",
       "            </tr><tr>\n",
       "                <td><strong>Number of genes</strong></td>\n",
       "                <td>2100</td>\n",
       "            </tr><tr>\n",
       "                <td><strong>Number of groups</strong></td>\n",
       "                <td>0</td>\n",
       "            </tr><tr>\n",
       "                <td><strong>Objective expression</strong></td>\n",
       "                <td>1.0*BIOMASS - 1.0*BIOMASS_reverse_69053</td>\n",
       "            </tr><tr>\n",
       "                <td><strong>Compartments</strong></td>\n",
       "                <td>c, e, p</td>\n",
       "            </tr>\n",
       "          </table>"
      ],
      "text/plain": [
       "<Model LbReuteri at 0x7f4f106fbee0>"
      ]
     },
     "execution_count": 2,
     "metadata": {},
     "output_type": "execute_result"
    }
   ],
   "source": [
    "draft_panmodel = gempipe.initialize('gempipe/output_recon/')\n",
    "draft_panmodel"
   ]
  },
  {
   "cell_type": "code",
   "execution_count": 3,
   "id": "30ccf075-7d48-45cb-b8f6-49867c139de7",
   "metadata": {},
   "outputs": [
    {
     "name": "stdout",
     "output_type": "stream",
     "text": [
      "1 : BIOMASS : Biomass reaction : (0.0, 1000.0)\n"
     ]
    }
   ],
   "source": [
    "_ = gempipe.search_biomass(draft_panmodel)"
   ]
  },
  {
   "cell_type": "code",
   "execution_count": 4,
   "id": "fce18a69-8f98-48c9-997b-3440c8368818",
   "metadata": {},
   "outputs": [
    {
     "name": "stdout",
     "output_type": "stream",
     "text": [
      "1 : DM_2ahbut_c : 2ahbut_c -->  : (0.0, 1000.0)\n"
     ]
    }
   ],
   "source": [
    "_ = gempipe.check_sinks_demands(draft_panmodel)"
   ]
  },
  {
   "cell_type": "code",
   "execution_count": 5,
   "id": "b3d4d866-fdb8-48dc-860b-cafd2557de09",
   "metadata": {},
   "outputs": [
    {
     "name": "stdout",
     "output_type": "stream",
     "text": [
      "No EX_change reaction with bad ID found.\n"
     ]
    }
   ],
   "source": [
    "_ = gempipe.check_exr_notation(draft_panmodel)"
   ]
  },
  {
   "cell_type": "code",
   "execution_count": 6,
   "id": "268fcf23-36e6-4d51-95cf-7be610ec1dd8",
   "metadata": {},
   "outputs": [
    {
     "name": "stdout",
     "output_type": "stream",
     "text": [
      "1 : TDPDRR : (-1000.0, 0.0) : dtdprmn_c + nadp_c <-- dtdp4d6dm_c + h_c + nadph_c\n",
      "2 : ATPM : (0.36, 0.36) : atp_c + h2o_c --> adp_c + h_c + pi_c\n",
      "3 : PFK : (-1000.0, 2.0) : atp_c + f6p_c <=> adp_c + fdp_c + h_c\n",
      "4 : AH6PI : (-1000.0, 0.0) : ah6p__D_c <-- f6p_c\n",
      "5 : CLt3_2pp : (-1000.0, 0.0) : 2.0 cl_p + h_c <-- 2.0 cl_c + h_p\n",
      "6 : INOSR : (-1000.0, 0.0) : inost_c + nadp_c <-- 2ins_c + h_c + nadph_c\n",
      "7 : RU5PS : (-1000.0, 0.0) : fald_c + ru5p__D_c <-- ah6p__D_c\n",
      "8 : SPMDt3i : (-1000.0, 0.0) : h_c + spmd_e <-- h_e + spmd_c\n",
      "9 : r2465_1 : (-1000.0, 0.0) : zn2_c <-- zn2_e\n"
     ]
    }
   ],
   "source": [
    "_ = gempipe.check_constrained_metabolic(draft_panmodel)"
   ]
  },
  {
   "cell_type": "code",
   "execution_count": 7,
   "id": "29402e4d-f121-4104-ae48-355d258c3bcd",
   "metadata": {},
   "outputs": [
    {
     "name": "stdout",
     "output_type": "stream",
     "text": [
      "1 : X : but2eACP_c[C4H4OX], 2tddacp_c[C12H20OX], 2tdeacp_c[C10H16OX], ... (46 in total)\n",
      "2 : M : MCOOH_c[MCO2], MCOSH_c[MCHOS]\n",
      "3 : R : alatrna_c[C3H6NOR], argtrna_c[C6H14N4OR], asntrna_c[C14H24N2O12PR2], ... (40 in total)\n"
     ]
    }
   ],
   "source": [
    "_ = gempipe.check_artificial_atoms(draft_panmodel, preview=3)"
   ]
  },
  {
   "cell_type": "code",
   "execution_count": 8,
   "id": "4a55068d-afbd-4f88-bdcd-fd613de5a65b",
   "metadata": {},
   "outputs": [
    {
     "name": "stdout",
     "output_type": "stream",
     "text": [
      "1 : CPS_LRE_c\n",
      "2 : DNA_LRE_c\n",
      "3 : LTA_LRE_c\n",
      "4 : LTAala_LRE_c\n",
      "5 : LTAglc_LRE_c\n",
      "6 : PGlac2_c\n",
      "7 : RNA_LRE_c\n",
      "8 : agly3p_LRE_c\n",
      "9 : cdpdag_LRE_c\n",
      "10 : clpn_LRE_c\n",
      "11 : dag_LRE_c\n",
      "12 : dgdag_LRE_c\n",
      "13 : lyspg_LRE_c\n",
      "14 : pa_LRE_c\n",
      "15 : pg_LRE_c\n",
      "16 : pgp_LRE_c\n",
      "17 : 12ppd__R_e\n",
      "18 : ppoh_e\n",
      "19 : PROT_LRE_c\n",
      "20 : LTAtotal_LRE_c\n",
      "21 : LIP_LRE_c\n"
     ]
    }
   ],
   "source": [
    "_ = gempipe.check_missing_formulas(draft_panmodel)"
   ]
  },
  {
   "cell_type": "code",
   "execution_count": 9,
   "id": "4e807d4a-3ff5-4005-9385-a68dc3676dbc",
   "metadata": {},
   "outputs": [
    {
     "name": "stdout",
     "output_type": "stream",
     "text": [
      "No metabolite with missing charge attribute found.\n"
     ]
    }
   ],
   "source": [
    "_ = gempipe.check_missing_charges(draft_panmodel)"
   ]
  },
  {
   "cell_type": "code",
   "execution_count": 10,
   "id": "3bac352b-9ed7-470a-a716-b29c579eedc5",
   "metadata": {},
   "outputs": [
    {
     "name": "stdout",
     "output_type": "stream",
     "text": [
      "1 : DAGK_LRE : atp_c + dag_LRE_c --> adp_c + h_c + pa_LRE_c : {'H': 1.0}\n",
      "2 : PGPP_LRE : h2o_c + pgp_LRE_c --> pg_LRE_c + pi_c : {'O': 3.0, 'P': 1.0}\n",
      "3 : CLPNS_LRE : 2.0 pg_LRE_c <=> clpn_LRE_c + glyc_c : {'C': 3.0, 'O': 3.0, 'H': 8.0}\n",
      "4 : PGSA_LRE : cdpdag_LRE_c + glyc3p_c <=> cmp_c + h_c + pgp_LRE_c : {'C': 6.0, 'N': 3.0, 'O': 2.0, 'H': 6.0}\n",
      "5 : PPOHt : ppoh_e <=> ppoh_c : {'C': 3.0, 'O': 1.0, 'H': 8.0}\n",
      "6 : PAP_LRE : h2o_c + pa_LRE_c --> dag_LRE_c + pi_c : {'O': 3.0, 'P': 1.0}\n",
      "7 : EAR120x : h_c + nadh_c + tddec2eACP_c --> ddcaACP_c + nad_c : {'X': 1}\n",
      "8 : EAR140x : h_c + nadh_c + tmrs2eACP_c --> myrsACP_c + nad_c : {'X': 1}\n",
      "9 : EAR141x : h_c + nadh_c + t3c7mrseACP_c --> nad_c + tdeACP_c : {'X': 1}\n",
      "10 : EAR80x : h_c + nadh_c + toct2eACP_c --> nad_c + ocACP_c : {'X': 1}\n",
      "11 : FLVRx : h_c + nadh_c + ribflv_c --> nad_c + rbflvrd_c : {'H': 2}\n",
      "12 : NTPP10 : ditp_c + h2o_c --> dimp_c + h_c + ppi_c : {'H': 1}\n",
      "13 : SLCYSS : acser_c + tsul_c --> ac_c + scys__L_c : {'H': 1, 'Se': 1}\n"
     ]
    }
   ],
   "source": [
    "_ = gempipe.check_mass_unbalances(draft_panmodel)"
   ]
  },
  {
   "cell_type": "code",
   "execution_count": 11,
   "id": "d73d0fc7-8c93-4eb7-b678-9820636dd336",
   "metadata": {},
   "outputs": [
    {
     "name": "stdout",
     "output_type": "stream",
     "text": [
      "1 : DAGK_LRE : atp_c + dag_LRE_c --> adp_c + h_c + pa_LRE_c : {'charge': 2.0}\n",
      "2 : PGGT4 : uaagmdalac_c --> PGlac2_c + udcpdp_c : {'charge': 1.0}\n",
      "3 : RNAS_LRE : 0.710810743235 atp_c + 0.187747387186 ctp_c + 0.21245220899 gtp_c + 0.288989660589 utp_c --> RNA_LRE_c + 0.4 adp_c + 0.4 h_c + 0.4 pi_c + ppi_c : {'charge': 0.9999999999999996}\n",
      "4 : PGSA_LRE : cdpdag_LRE_c + glyc3p_c <=> cmp_c + h_c + pgp_LRE_c : {'charge': 1.0}\n",
      "5 : GAT1_LRE : 0.0211 cpocdacp_c + glyc3p_c + 0.0258 hdeACP_c + 0.075 ocdacp_c + 0.0418 ocdctrACP_c + 0.3519 ocdcyaACP_c + 0.1591 octeACP_c + 0.2566 palmACP_c + 0.0687 tdeacp_c --> ACP_c + agly3p_LRE_c : {'charge': 2.0}\n",
      "6 : DNAS_LRE : 1.37 atp_c + 0.310284595735 datp_c + 0.180906354753 dctp_c + 0.207484087701 dgtp_c + 0.301324961811 dttp_c + 1.37 h2o_c --> DNA_LRE_c + 1.37 adp_c + 1.37 h_c + 1.37 pi_c + ppi_c : {'charge': 0.9999999999999991}\n",
      "7 : CPSS_LRE : 4.0 h2o_c + 4.0 udpg_c <=> CPS_LRE_c + 5.0 h_c + 3.0 udp_c + ump_c : {'charge': 2.0}\n",
      "8 : 2H3MBDH : 3mob_c + h_c + nadh_c <=> 2h3mb_c + nad_c : {'charge': 1}\n",
      "9 : 2H3MPDH : 3mop_c + h_c + nadh_c <=> 2h3mp_c + nad_c : {'charge': 1}\n",
      "10 : 2S6HCCi : akg_c + h_c + ichor_c <=> 2shchc_c + co2_c + pyr_c : {'charge': 2}\n",
      "11 : ACMANApts : acmana_e + pep_c --> acmanap_c + pyr_c : {'charge': 2}\n",
      "12 : AMANK_1 : acmana_c + atp_c --> acmanap_c + adp_c + h_c : {'charge': 2}\n",
      "13 : AMPEP11 : gly_pro__L_c + h2o_c --> gly_c + h_c + pro__L_c : {'charge': 1}\n",
      "14 : ATPPRT : atp_c + prpp_c --> ppi_c + prbatp_c : {'charge': 6}\n",
      "15 : CHORM : chor_c --> pphn_c : {'charge': 2}\n",
      "16 : GLYCYSAP : gly_cys_c + h2o_c <=> cys__L_c + gly_c + h_c : {'charge': 1}\n",
      "17 : GLYLEUAP : gly_leu_c + h2o_c <=> gly_c + h_c + leu__L_c : {'charge': 1}\n",
      "18 : GLYPHEAP : gly_phe_c + h2o_c <=> gly_c + h_c + phe__L_c : {'charge': 1}\n",
      "19 : GLYTYRAP : gly_tyr_c + h2o_c <=> gly_c + h_c + tyr__L_c : {'charge': 1}\n",
      "20 : GUI1 : glcur_c <=> fruur_c : {'charge': 1}\n",
      "21 : GUI2 : galur_c <=> tagur_c : {'charge': 1}\n",
      "22 : HACD9 : 3hmbcoa_c + nad_c <=> 2maacoa_c + h_c + nadh_c : {'charge': 4}\n",
      "23 : HCYSMT2 : hcys__L_c + mmet_c --> h_c + 2.0 met__L_c : {'charge': 1.0}\n",
      "24 : HSAE : h2o_c + hhd_c --> 4hoxoh_c + h_c : {'charge': 1}\n",
      "25 : IBHH : 2mbald_c + nadh_c <=> h_c + ibtol_c + nad_c : {'charge': 2}\n",
      "26 : ICHORT : h2o_c + ichor_c --> 23ddhb_c + pyr_c : {'charge': 1}\n",
      "27 : LASP2OA : Largn_c + oaa_c <=> asp__L_c + h_c + pphn_c : {'charge': 2}\n",
      "28 : LIPATPT_2 : atp_c + h_c + lipoate_c --> lipoamp_c + ppi_c : {'charge': 1}\n",
      "29 : MANAO : mana_c + nad_c <=> fruur_c + h_c + nadh_c : {'charge': 1}\n",
      "30 : NTPP10 : ditp_c + h2o_c --> dimp_c + h_c + ppi_c : {'charge': 1}\n",
      "31 : PROR : pro__L_c <=> h_c + pro__D_c : {'charge': 1}\n",
      "32 : RU5PS : fald_c + ru5p__D_c <-- ah6p__D_c : {'charge': 2}\n",
      "33 : SBTpts : pep_c + sbt__D_e --> pyr_c + sbt6p_c : {'charge': 2}\n",
      "34 : SUCpts : pep_c + sucr_e --> pyr_c + suc6p_c : {'charge': 2}\n",
      "35 : TAGURr : altrn_c + nad_c <=> h_c + nadh_c + tagur_c : {'charge': 1}\n",
      "36 : TNTR1 : h_c + 2.0 nadph_c + tnt_c --> 4hadnt_c + h2o_c + 2.0 nadp_c : {'charge': 1.0}\n",
      "37 : TNTR1x : h_c + 2.0 nadh_c + tnt_c --> 4hadnt_c + h2o_c + 2.0 nad_c : {'charge': 1.0}\n",
      "38 : TNTR2 : h_c + 2.0 nadph_c + tnt_c --> 2hadnt_c + h2o_c + 2.0 nadp_c : {'charge': 1.0}\n",
      "39 : TNTR2x : h_c + 2.0 nadh_c + tnt_c --> 2hadnt_c + h2o_c + 2.0 nad_c : {'charge': 1.0}\n",
      "40 : UAG4Ei : uacgam_c <=> udpacgal_c : {'charge': 2}\n"
     ]
    }
   ],
   "source": [
    "_ = gempipe.check_charge_unbalances(draft_panmodel)"
   ]
  },
  {
   "cell_type": "code",
   "execution_count": 12,
   "id": "29575d7a-97bb-4163-8780-ec941f081ab5",
   "metadata": {},
   "outputs": [
    {
     "name": "stdout",
     "output_type": "stream",
     "text": [
      "4.715419705361682\n",
      "atp_c + h2o_c --> adp_c + h_c + pi_c\n",
      "333.3333333333333 : optimal\n",
      "\n",
      "NH3t        1000.000000\n",
      "NH4DIS     -1000.000000\n",
      "ATPS3r       333.333333\n",
      "NH4DISex    1000.000000\n",
      "NH4t       -1000.000000\n"
     ]
    }
   ],
   "source": [
    "with draft_panmodel: \n",
    "    print(draft_panmodel.slim_optimize())\n",
    "    draft_panmodel.reactions.ATPM.bounds = (0,0)\n",
    "    gempipe.verify_egc(draft_panmodel, 'atp')"
   ]
  },
  {
   "cell_type": "code",
   "execution_count": 13,
   "id": "2ac9d6a6-8fa4-4711-9c00-00c489674c35",
   "metadata": {},
   "outputs": [
    {
     "name": "stdout",
     "output_type": "stream",
     "text": [
      "0.7784379875993079\n",
      "unknown metabolite 'fadh2_c' created\n",
      "No energy-generating cycles (EGCs) found.\n"
     ]
    }
   ],
   "source": [
    "# remove this reaction: we already have the transporter (for nh3, not nh4).\n",
    "draft_panmodel.remove_reactions([draft_panmodel.reactions.get_by_id('NH4t')])\n",
    "\n",
    "with draft_panmodel: \n",
    "    print(draft_panmodel.slim_optimize())\n",
    "    draft_panmodel.reactions.ATPM.bounds = (0,0)\n",
    "    gempipe.verify_egc_all(draft_panmodel)"
   ]
  },
  {
   "cell_type": "code",
   "execution_count": 14,
   "id": "b1c2ffa4-908c-40e5-bbf6-74e1293811ad",
   "metadata": {},
   "outputs": [],
   "source": [
    "# remove strain-specific biomass components: \n",
    "\n",
    "biomass = draft_panmodel.reactions.get_by_id('BIOMASS')\n",
    "rstr = biomass.reaction\n",
    "rstr = rstr.replace('1e-05 adeadocbl_c + ', '')\n",
    "biomass.build_reaction_from_string(rstr)"
   ]
  },
  {
   "cell_type": "code",
   "execution_count": 15,
   "id": "d6c3dac9-33d6-4ce6-b4a4-cc8372f9b197",
   "metadata": {},
   "outputs": [
    {
     "name": "stdout",
     "output_type": "stream",
     "text": [
      "0.7784541504717637 optimal\n",
      "0.24481864317762733 optimal\n"
     ]
    }
   ],
   "source": [
    "# verify growth in absence of glucose (useful for defiing the --minflux)\n",
    "\n",
    "# check growth without glucose: \n",
    "with draft_panmodel: \n",
    "    res = draft_panmodel.optimize()\n",
    "    print(res.objective_value, res.status)\n",
    "    draft_panmodel.reactions.EX_glc__D_e.bounds = (0, 0)\n",
    "    res = draft_panmodel.optimize()\n",
    "    print(res.objective_value, res.status)"
   ]
  },
  {
   "cell_type": "code",
   "execution_count": 16,
   "id": "8989dae0-b047-4adc-bac3-5690df868da2",
   "metadata": {},
   "outputs": [],
   "source": [
    "cobra.io.save_json_model(draft_panmodel, 'gempipe/draft_panmodel_edit.json')"
   ]
  },
  {
   "cell_type": "code",
   "execution_count": null,
   "id": "b4965177-bc97-4f3f-9d11-0d5a409caebd",
   "metadata": {},
   "outputs": [],
   "source": []
  }
 ],
 "metadata": {
  "kernelspec": {
   "display_name": "Python 3 (ipykernel)",
   "language": "python",
   "name": "python3"
  },
  "language_info": {
   "codemirror_mode": {
    "name": "ipython",
    "version": 3
   },
   "file_extension": ".py",
   "mimetype": "text/x-python",
   "name": "python",
   "nbconvert_exporter": "python",
   "pygments_lexer": "ipython3",
   "version": "3.9.15"
  }
 },
 "nbformat": 4,
 "nbformat_minor": 5
}
