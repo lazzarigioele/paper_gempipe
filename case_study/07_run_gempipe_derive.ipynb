{
 "cells": [
  {
   "cell_type": "code",
   "execution_count": null,
   "id": "0107bef5-b5f7-4a5b-86e7-2f06f93c9895",
   "metadata": {},
   "outputs": [],
   "source": [
    "# Bash scripts are run via SLURM.\n",
    "# see commands/05_run_gempipe_derive.sh"
   ]
  }
 ],
 "metadata": {
  "kernelspec": {
   "display_name": "Python 3 (ipykernel)",
   "language": "python",
   "name": "python3"
  },
  "language_info": {
   "codemirror_mode": {
    "name": "ipython",
    "version": 3
   },
   "file_extension": ".py",
   "mimetype": "text/x-python",
   "name": "python",
   "nbconvert_exporter": "python",
   "pygments_lexer": "ipython3",
   "version": "3.9.15"
  }
 },
 "nbformat": 4,
 "nbformat_minor": 5
}
